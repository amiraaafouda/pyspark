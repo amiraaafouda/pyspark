{
  "nbformat": 4,
  "nbformat_minor": 5,
  "metadata": {
    "kernelspec": {
      "display_name": "Python 3",
      "language": "python",
      "name": "python3"
    },
    "language_info": {
      "codemirror_mode": {
        "name": "ipython",
        "version": 3
      },
      "file_extension": ".py",
      "mimetype": "text/x-python",
      "name": "python",
      "nbconvert_exporter": "python",
      "pygments_lexer": "ipython3",
      "version": "3.8.8"
    },
    "colab": {
      "provenance": [],
      "collapsed_sections": [
        "974bc193",
        "59b770cb",
        "bf8c9498",
        "850bdfe1",
        "3da38a31",
        "89ce3b77",
        "053c429a",
        "78fa24da",
        "987b4b40",
        "a05c2677",
        "daec120f",
        "40206589"
      ]
    }
  },
  "cells": [
    {
      "cell_type": "markdown",
      "source": [
        "![image.png](attachment:image.png)"
      ],
      "metadata": {
        "id": "sY2zKnLdIg31"
      },
      "id": "sY2zKnLdIg31"
    },
    {
      "cell_type": "markdown",
      "metadata": {
        "id": "abbf1e33"
      },
      "source": [
        "##### **Good luck with taking your exam. Keep working and make your dreams all come true. Seeing the results of all of your hard work will make this struggle worth it. We’re all thinking of you.** \n",
        "<b><font color='blue'>AI-PRO Spark Team ITI</font></b>"
      ],
      "id": "abbf1e33"
    },
    {
      "cell_type": "markdown",
      "metadata": {
        "id": "8326ba88"
      },
      "source": [
        "## Objective:\n",
        "- The objective from this project is to create a <b>Logistic Regression Classifier</b> to predict the <b>Stroke Condition</b>.\n",
        "- <b>Stoke</b> is a condition in which either the blood flow to the brain stops or blood flow is excessive.\n",
        "- It is required to obtain <b>ROC > 0.65</b>."
      ],
      "id": "8326ba88"
    },
    {
      "cell_type": "markdown",
      "metadata": {
        "id": "0eb78c16"
      },
      "source": [
        "### Data:\n",
        "- Data is provided in csv format in a file named <b>healthcare-dataset-stroke-data.csv</b>"
      ],
      "id": "0eb78c16"
    },
    {
      "cell_type": "markdown",
      "metadata": {
        "id": "7c842b79"
      },
      "source": [
        "### Column names and data types are as follow:\n",
        "- id, integer.\n",
        "- gender, string.\n",
        "- age, double.\n",
        "- hypertension, integer.\n",
        "- heart_disease, integer.\n",
        "- ever_married, string.\n",
        "- work_type, string.\n",
        "- Residence_type, string.\n",
        "- avg_glucose_level, double.\n",
        "- bmi, double.\n",
        "- smoking_status, string.\n",
        "- stroke, integer <b>(Target Label)</b>.\n",
        "If the person has stroke the stroke label value is <b>\"1\"</b> otherwise <b>\"0\"</b>."
      ],
      "id": "7c842b79"
    },
    {
      "cell_type": "markdown",
      "metadata": {
        "id": "6971f788"
      },
      "source": [
        "## To perform this task follow the following guiding steps:"
      ],
      "id": "6971f788"
    },
    {
      "cell_type": "markdown",
      "metadata": {
        "id": "e31bc851"
      },
      "source": [
        "### Create a spark session and import the required libraries"
      ],
      "id": "e31bc851"
    },
    {
      "cell_type": "code",
      "metadata": {
        "id": "ab3ba311",
        "colab": {
          "base_uri": "https://localhost:8080/",
          "height": 366
        },
        "outputId": "98d408a2-b490-4425-e3a0-4fa6bc328e22"
      },
      "source": [
        "!pip install pyspark\n",
        "from pyspark.sql import SparkSession\n",
        "spark = SparkSession.builder.getOrCreate()\n",
        "from IPython.display import display, HTML\n",
        "display(HTML(\"<style>pre { white-space: pre !important; }</style>\"))"
      ],
      "id": "ab3ba311",
      "execution_count": 54,
      "outputs": [
        {
          "output_type": "stream",
          "name": "stdout",
          "text": [
            "Looking in indexes: https://pypi.org/simple, https://us-python.pkg.dev/colab-wheels/public/simple/\n",
            "Collecting pyspark\n",
            "  Downloading pyspark-3.3.0.tar.gz (281.3 MB)\n",
            "\u001b[K     |████████████████████████████████| 281.3 MB 46 kB/s \n",
            "\u001b[?25hCollecting py4j==0.10.9.5\n",
            "  Downloading py4j-0.10.9.5-py2.py3-none-any.whl (199 kB)\n",
            "\u001b[K     |████████████████████████████████| 199 kB 13.3 MB/s \n",
            "\u001b[?25hBuilding wheels for collected packages: pyspark\n",
            "  Building wheel for pyspark (setup.py) ... \u001b[?25l\u001b[?25hdone\n",
            "  Created wheel for pyspark: filename=pyspark-3.3.0-py2.py3-none-any.whl size=281764026 sha256=aad9362045f8e8b0cea407c3d67ac13ec54b89f246524b42e5aff1d684bb801a\n",
            "  Stored in directory: /root/.cache/pip/wheels/7a/8e/1b/f73a52650d2e5f337708d9f6a1750d451a7349a867f928b885\n",
            "Successfully built pyspark\n",
            "Installing collected packages: py4j, pyspark\n",
            "Successfully installed py4j-0.10.9.5 pyspark-3.3.0\n"
          ]
        },
        {
          "output_type": "display_data",
          "data": {
            "application/vnd.colab-display-data+json": {
              "pip_warning": {
                "packages": [
                  "py4j",
                  "pyspark"
                ]
              }
            }
          },
          "metadata": {}
        },
        {
          "output_type": "display_data",
          "data": {
            "text/plain": [
              "<IPython.core.display.HTML object>"
            ],
            "text/html": [
              "<style>pre { white-space: pre !important; }</style>"
            ]
          },
          "metadata": {}
        }
      ]
    },
    {
      "cell_type": "code",
      "metadata": {
        "id": "-Hk58E2xsZ0a"
      },
      "source": [
        "sampleDF = spark.read.csv('/content/healthcare-dataset-stroke-data.csv',inferSchema=True,samplingRatio=0.001,header=True)"
      ],
      "id": "-Hk58E2xsZ0a",
      "execution_count": 55,
      "outputs": []
    },
    {
      "cell_type": "code",
      "metadata": {
        "id": "5I5Ul4t-sdEH",
        "colab": {
          "base_uri": "https://localhost:8080/"
        },
        "outputId": "b8d307e7-ba59-44f9-921b-34fab9713335"
      },
      "source": [
        "sampleDF.printSchema()"
      ],
      "id": "5I5Ul4t-sdEH",
      "execution_count": 56,
      "outputs": [
        {
          "output_type": "stream",
          "name": "stdout",
          "text": [
            "root\n",
            " |-- id: integer (nullable = true)\n",
            " |-- gender: string (nullable = true)\n",
            " |-- age: double (nullable = true)\n",
            " |-- hypertension: integer (nullable = true)\n",
            " |-- heart_disease: integer (nullable = true)\n",
            " |-- ever_married: string (nullable = true)\n",
            " |-- work_type: string (nullable = true)\n",
            " |-- Residence_type: string (nullable = true)\n",
            " |-- avg_glucose_level: double (nullable = true)\n",
            " |-- bmi: double (nullable = true)\n",
            " |-- smoking_status: string (nullable = true)\n",
            " |-- stroke: integer (nullable = true)\n",
            "\n"
          ]
        }
      ]
    },
    {
      "cell_type": "markdown",
      "metadata": {
        "id": "843b8468"
      },
      "source": [
        "### Create a data schema programatically"
      ],
      "id": "843b8468"
    },
    {
      "cell_type": "code",
      "metadata": {
        "id": "O8eRuFX_sfSt",
        "colab": {
          "base_uri": "https://localhost:8080/"
        },
        "outputId": "e89d63de-9fde-4706-c33b-09859de3c0e0"
      },
      "source": [
        "myschema = sampleDF.schema\n",
        "myschema"
      ],
      "id": "O8eRuFX_sfSt",
      "execution_count": 57,
      "outputs": [
        {
          "output_type": "execute_result",
          "data": {
            "text/plain": [
              "StructType(List(StructField(id,IntegerType,true),StructField(gender,StringType,true),StructField(age,DoubleType,true),StructField(hypertension,IntegerType,true),StructField(heart_disease,IntegerType,true),StructField(ever_married,StringType,true),StructField(work_type,StringType,true),StructField(Residence_type,StringType,true),StructField(avg_glucose_level,DoubleType,true),StructField(bmi,DoubleType,true),StructField(smoking_status,StringType,true),StructField(stroke,IntegerType,true)))"
            ]
          },
          "metadata": {},
          "execution_count": 57
        }
      ]
    },
    {
      "cell_type": "markdown",
      "metadata": {
        "id": "2d00718f"
      },
      "source": [
        "### Read the data using the standard DataReader (Key,Value) pairs format\n",
        "- Provide the schema and any other required options."
      ],
      "id": "2d00718f"
    },
    {
      "cell_type": "code",
      "metadata": {
        "id": "61fcc4cd"
      },
      "source": [
        "df = spark.read.csv('/content/healthcare-dataset-stroke-data.csv',header=True,schema=myschema)"
      ],
      "id": "61fcc4cd",
      "execution_count": 58,
      "outputs": []
    },
    {
      "cell_type": "markdown",
      "metadata": {
        "id": "974bc193"
      },
      "source": [
        "### Explore the data \n",
        "#### You have to do the following:\n",
        "- Print the Schema.\n",
        "- Show the first 10 rows from the data.\n",
        "- Explore null values and show how many null values in each column.\n",
        "- Plot a count plot for the target label and <b>notice the graph</b>.\n",
        "- Perform any additional EDA you find useful."
      ],
      "id": "974bc193"
    },
    {
      "cell_type": "code",
      "metadata": {
        "id": "353b6f34",
        "colab": {
          "base_uri": "https://localhost:8080/"
        },
        "outputId": "5027a5a9-7798-4d2d-c6ec-273e488407b5"
      },
      "source": [
        "df.printSchema()"
      ],
      "id": "353b6f34",
      "execution_count": 59,
      "outputs": [
        {
          "output_type": "stream",
          "name": "stdout",
          "text": [
            "root\n",
            " |-- id: integer (nullable = true)\n",
            " |-- gender: string (nullable = true)\n",
            " |-- age: double (nullable = true)\n",
            " |-- hypertension: integer (nullable = true)\n",
            " |-- heart_disease: integer (nullable = true)\n",
            " |-- ever_married: string (nullable = true)\n",
            " |-- work_type: string (nullable = true)\n",
            " |-- Residence_type: string (nullable = true)\n",
            " |-- avg_glucose_level: double (nullable = true)\n",
            " |-- bmi: double (nullable = true)\n",
            " |-- smoking_status: string (nullable = true)\n",
            " |-- stroke: integer (nullable = true)\n",
            "\n"
          ]
        }
      ]
    },
    {
      "cell_type": "code",
      "metadata": {
        "id": "6fb198f0",
        "colab": {
          "base_uri": "https://localhost:8080/"
        },
        "outputId": "a29f5619-489f-4c7d-d341-12b1d1456694"
      },
      "source": [
        "df.show(10,truncate=False)"
      ],
      "id": "6fb198f0",
      "execution_count": 60,
      "outputs": [
        {
          "output_type": "stream",
          "name": "stdout",
          "text": [
            "+-----+------+----+------------+-------------+------------+-------------+--------------+-----------------+----+---------------+------+\n",
            "|id   |gender|age |hypertension|heart_disease|ever_married|work_type    |Residence_type|avg_glucose_level|bmi |smoking_status |stroke|\n",
            "+-----+------+----+------------+-------------+------------+-------------+--------------+-----------------+----+---------------+------+\n",
            "|9046 |Male  |67.0|0           |1            |Yes         |Private      |Urban         |228.69           |36.6|formerly smoked|1     |\n",
            "|51676|Female|61.0|0           |0            |Yes         |Self-employed|Rural         |202.21           |null|never smoked   |1     |\n",
            "|31112|Male  |80.0|0           |1            |Yes         |Private      |Rural         |105.92           |32.5|never smoked   |1     |\n",
            "|60182|Female|49.0|0           |0            |Yes         |Private      |Urban         |171.23           |34.4|smokes         |1     |\n",
            "|1665 |Female|79.0|1           |0            |Yes         |Self-employed|Rural         |174.12           |24.0|never smoked   |1     |\n",
            "|56669|Male  |81.0|0           |0            |Yes         |Private      |Urban         |186.21           |29.0|formerly smoked|1     |\n",
            "|53882|Male  |74.0|1           |1            |Yes         |Private      |Rural         |70.09            |27.4|never smoked   |1     |\n",
            "|10434|Female|69.0|0           |0            |No          |Private      |Urban         |94.39            |22.8|never smoked   |1     |\n",
            "|27419|Female|59.0|0           |0            |Yes         |Private      |Rural         |76.15            |null|Unknown        |1     |\n",
            "|60491|Female|78.0|0           |0            |Yes         |Private      |Urban         |58.57            |24.2|Unknown        |1     |\n",
            "+-----+------+----+------------+-------------+------------+-------------+--------------+-----------------+----+---------------+------+\n",
            "only showing top 10 rows\n",
            "\n"
          ]
        }
      ]
    },
    {
      "cell_type": "code",
      "metadata": {
        "id": "NNt2xlLNvuOv"
      },
      "source": [
        "import pyspark.sql.functions as fn\n",
        "from pyspark.sql.functions import *"
      ],
      "id": "NNt2xlLNvuOv",
      "execution_count": 61,
      "outputs": []
    },
    {
      "cell_type": "code",
      "metadata": {
        "colab": {
          "base_uri": "https://localhost:8080/"
        },
        "id": "ZjkD7600waQ7",
        "outputId": "7bebba23-8e69-4996-9e46-91442fe3a755"
      },
      "source": [
        "df.select([count(when(isnan(c) | col(c).isNull(), c)).alias(c) for c in df.columns]\n",
        "   ).show()"
      ],
      "id": "ZjkD7600waQ7",
      "execution_count": 62,
      "outputs": [
        {
          "output_type": "stream",
          "name": "stdout",
          "text": [
            "+---+------+---+------------+-------------+------------+---------+--------------+-----------------+---+--------------+------+\n",
            "| id|gender|age|hypertension|heart_disease|ever_married|work_type|Residence_type|avg_glucose_level|bmi|smoking_status|stroke|\n",
            "+---+------+---+------------+-------------+------------+---------+--------------+-----------------+---+--------------+------+\n",
            "|  0|     0|  0|           0|            0|           0|        0|             0|                0|201|             0|     0|\n",
            "+---+------+---+------------+-------------+------------+---------+--------------+-----------------+---+--------------+------+\n",
            "\n"
          ]
        }
      ]
    },
    {
      "cell_type": "code",
      "metadata": {
        "id": "FCG5I_c9xGn1"
      },
      "source": [
        "new_df=df.toPandas()"
      ],
      "id": "FCG5I_c9xGn1",
      "execution_count": 63,
      "outputs": []
    },
    {
      "cell_type": "code",
      "metadata": {
        "colab": {
          "base_uri": "https://localhost:8080/"
        },
        "id": "16Hf9FSKwr1L",
        "outputId": "aab6c0ac-dc39-4ae3-f276-017bf67246b6"
      },
      "source": [
        "new_df[\"stroke\"].value_counts()"
      ],
      "id": "16Hf9FSKwr1L",
      "execution_count": 64,
      "outputs": [
        {
          "output_type": "execute_result",
          "data": {
            "text/plain": [
              "0    4861\n",
              "1     249\n",
              "Name: stroke, dtype: int64"
            ]
          },
          "metadata": {},
          "execution_count": 64
        }
      ]
    },
    {
      "cell_type": "code",
      "source": [
        "import seaborn as sns\n",
        "ax = sns.barplot([0,1], y= [new_df[\"stroke\"].value_counts()[0], new_df[\"stroke\"].value_counts()[1]])\n",
        "ax.set(xlabel=\"Stroke\", ylabel = \"Count\");"
      ],
      "metadata": {
        "colab": {
          "base_uri": "https://localhost:8080/",
          "height": 334
        },
        "id": "AAzaXzf5D02N",
        "outputId": "ac5719b9-2b60-4006-ee62-e545d017ddc3"
      },
      "id": "AAzaXzf5D02N",
      "execution_count": 65,
      "outputs": [
        {
          "output_type": "stream",
          "name": "stderr",
          "text": [
            "/usr/local/lib/python3.7/dist-packages/seaborn/_decorators.py:43: FutureWarning: Pass the following variable as a keyword arg: x. From version 0.12, the only valid positional argument will be `data`, and passing other arguments without an explicit keyword will result in an error or misinterpretation.\n",
            "  FutureWarning\n"
          ]
        },
        {
          "output_type": "display_data",
          "data": {
            "text/plain": [
              "<Figure size 432x288 with 1 Axes>"
            ],
            "image/png": "[encoded data removed]"
          },
          "metadata": {
            "needs_background": "light"
          }
        }
      ]
    },
    {
      "cell_type": "code",
      "source": [],
      "metadata": {
        "id": "n54YfmbDD0sx"
      },
      "id": "n54YfmbDD0sx",
      "execution_count": null,
      "outputs": []
    },
    {
      "cell_type": "markdown",
      "metadata": {
        "id": "59b770cb"
      },
      "source": [
        "### Get the summary statistics of the age column\n",
        "- You will find the minimum age is about <b>0.08</b>.\n",
        "- Remove rows for the age below <b>2 years old</b>."
      ],
      "id": "59b770cb"
    },
    {
      "cell_type": "code",
      "metadata": {
        "colab": {
          "base_uri": "https://localhost:8080/"
        },
        "id": "DMeBtAeizD-s",
        "outputId": "824ef175-b98b-4db2-8aa7-1d10aca2a486"
      },
      "source": [
        "df.select(['age']).summary().show()"
      ],
      "id": "DMeBtAeizD-s",
      "execution_count": 66,
      "outputs": [
        {
          "output_type": "stream",
          "name": "stdout",
          "text": [
            "+-------+------------------+\n",
            "|summary|               age|\n",
            "+-------+------------------+\n",
            "|  count|              5110|\n",
            "|   mean|43.226614481409015|\n",
            "| stddev| 22.61264672311348|\n",
            "|    min|              0.08|\n",
            "|    25%|              25.0|\n",
            "|    50%|              45.0|\n",
            "|    75%|              61.0|\n",
            "|    max|              82.0|\n",
            "+-------+------------------+\n",
            "\n"
          ]
        }
      ]
    },
    {
      "cell_type": "code",
      "metadata": {
        "id": "RcSfptYX14CT"
      },
      "source": [
        "df2 = df.filter(df['age'] >= 2)"
      ],
      "id": "RcSfptYX14CT",
      "execution_count": 67,
      "outputs": []
    },
    {
      "cell_type": "code",
      "metadata": {
        "id": "cc99c0be",
        "colab": {
          "base_uri": "https://localhost:8080/"
        },
        "outputId": "cd65f28f-b25b-43c4-d956-acf358326b0b"
      },
      "source": [
        "df2.show()"
      ],
      "id": "cc99c0be",
      "execution_count": 68,
      "outputs": [
        {
          "output_type": "stream",
          "name": "stdout",
          "text": [
            "+-----+------+----+------------+-------------+------------+-------------+--------------+-----------------+----+---------------+------+\n",
            "|   id|gender| age|hypertension|heart_disease|ever_married|    work_type|Residence_type|avg_glucose_level| bmi| smoking_status|stroke|\n",
            "+-----+------+----+------------+-------------+------------+-------------+--------------+-----------------+----+---------------+------+\n",
            "| 9046|  Male|67.0|           0|            1|         Yes|      Private|         Urban|           228.69|36.6|formerly smoked|     1|\n",
            "|51676|Female|61.0|           0|            0|         Yes|Self-employed|         Rural|           202.21|null|   never smoked|     1|\n",
            "|31112|  Male|80.0|           0|            1|         Yes|      Private|         Rural|           105.92|32.5|   never smoked|     1|\n",
            "|60182|Female|49.0|           0|            0|         Yes|      Private|         Urban|           171.23|34.4|         smokes|     1|\n",
            "| 1665|Female|79.0|           1|            0|         Yes|Self-employed|         Rural|           174.12|24.0|   never smoked|     1|\n",
            "|56669|  Male|81.0|           0|            0|         Yes|      Private|         Urban|           186.21|29.0|formerly smoked|     1|\n",
            "|53882|  Male|74.0|           1|            1|         Yes|      Private|         Rural|            70.09|27.4|   never smoked|     1|\n",
            "|10434|Female|69.0|           0|            0|          No|      Private|         Urban|            94.39|22.8|   never smoked|     1|\n",
            "|27419|Female|59.0|           0|            0|         Yes|      Private|         Rural|            76.15|null|        Unknown|     1|\n",
            "|60491|Female|78.0|           0|            0|         Yes|      Private|         Urban|            58.57|24.2|        Unknown|     1|\n",
            "|12109|Female|81.0|           1|            0|         Yes|      Private|         Rural|            80.43|29.7|   never smoked|     1|\n",
            "|12095|Female|61.0|           0|            1|         Yes|     Govt_job|         Rural|           120.46|36.8|         smokes|     1|\n",
            "|12175|Female|54.0|           0|            0|         Yes|      Private|         Urban|           104.51|27.3|         smokes|     1|\n",
            "| 8213|  Male|78.0|           0|            1|         Yes|      Private|         Urban|           219.84|null|        Unknown|     1|\n",
            "| 5317|Female|79.0|           0|            1|         Yes|      Private|         Urban|           214.09|28.2|   never smoked|     1|\n",
            "|58202|Female|50.0|           1|            0|         Yes|Self-employed|         Rural|           167.41|30.9|   never smoked|     1|\n",
            "|56112|  Male|64.0|           0|            1|         Yes|      Private|         Urban|           191.61|37.5|         smokes|     1|\n",
            "|34120|  Male|75.0|           1|            0|         Yes|      Private|         Urban|           221.29|25.8|         smokes|     1|\n",
            "|27458|Female|60.0|           0|            0|          No|      Private|         Urban|            89.22|37.8|   never smoked|     1|\n",
            "|25226|  Male|57.0|           0|            1|          No|     Govt_job|         Urban|           217.08|null|        Unknown|     1|\n",
            "+-----+------+----+------------+-------------+------------+-------------+--------------+-----------------+----+---------------+------+\n",
            "only showing top 20 rows\n",
            "\n"
          ]
        }
      ]
    },
    {
      "cell_type": "markdown",
      "metadata": {
        "id": "bf8c9498"
      },
      "source": [
        "### Working with gender & smoking_status columns:\n",
        "- Select and show the gender & smoking_status columns\n",
        "- Get the distinct values for each column."
      ],
      "id": "bf8c9498"
    },
    {
      "cell_type": "code",
      "metadata": {
        "colab": {
          "base_uri": "https://localhost:8080/"
        },
        "id": "Smaxt2UP0juq",
        "outputId": "3699fca0-945d-4255-c67b-4b327282b145"
      },
      "source": [
        "df2.select(['gender','smoking_status']).show()"
      ],
      "id": "Smaxt2UP0juq",
      "execution_count": 69,
      "outputs": [
        {
          "output_type": "stream",
          "name": "stdout",
          "text": [
            "+------+---------------+\n",
            "|gender| smoking_status|\n",
            "+------+---------------+\n",
            "|  Male|formerly smoked|\n",
            "|Female|   never smoked|\n",
            "|  Male|   never smoked|\n",
            "|Female|         smokes|\n",
            "|Female|   never smoked|\n",
            "|  Male|formerly smoked|\n",
            "|  Male|   never smoked|\n",
            "|Female|   never smoked|\n",
            "|Female|        Unknown|\n",
            "|Female|        Unknown|\n",
            "|Female|   never smoked|\n",
            "|Female|         smokes|\n",
            "|Female|         smokes|\n",
            "|  Male|        Unknown|\n",
            "|Female|   never smoked|\n",
            "|Female|   never smoked|\n",
            "|  Male|         smokes|\n",
            "|  Male|         smokes|\n",
            "|Female|   never smoked|\n",
            "|  Male|        Unknown|\n",
            "+------+---------------+\n",
            "only showing top 20 rows\n",
            "\n"
          ]
        }
      ]
    },
    {
      "cell_type": "code",
      "metadata": {
        "colab": {
          "base_uri": "https://localhost:8080/"
        },
        "id": "tATz8kUh2ZyN",
        "outputId": "392155d4-ff40-4889-d193-3619d7cccc45"
      },
      "source": [
        "df2.select('gender').distinct().show()"
      ],
      "id": "tATz8kUh2ZyN",
      "execution_count": 70,
      "outputs": [
        {
          "output_type": "stream",
          "name": "stdout",
          "text": [
            "+------+\n",
            "|gender|\n",
            "+------+\n",
            "|Female|\n",
            "| Other|\n",
            "|  Male|\n",
            "+------+\n",
            "\n"
          ]
        }
      ]
    },
    {
      "cell_type": "code",
      "metadata": {
        "id": "9dfe35a4",
        "colab": {
          "base_uri": "https://localhost:8080/"
        },
        "outputId": "8e843c56-7c8c-4120-a6e8-4c9a61a0aafc"
      },
      "source": [
        "df2.select('smoking_status').distinct().show()"
      ],
      "id": "9dfe35a4",
      "execution_count": 71,
      "outputs": [
        {
          "output_type": "stream",
          "name": "stdout",
          "text": [
            "+---------------+\n",
            "| smoking_status|\n",
            "+---------------+\n",
            "|         smokes|\n",
            "|        Unknown|\n",
            "|   never smoked|\n",
            "|formerly smoked|\n",
            "+---------------+\n",
            "\n"
          ]
        }
      ]
    },
    {
      "cell_type": "markdown",
      "metadata": {
        "id": "850bdfe1"
      },
      "source": [
        "#### Change the string values of the columns into numerical values as follow:\n",
        "1. Gender column:\n",
        "    * Male = 1 \n",
        "    * Female = 0 \n",
        "    * Other = 0 \n",
        "2. Smoking Status column:\n",
        "  * never smoked = 0\n",
        "  * Unknown = 0.5\n",
        "  * formerly smoked = 0.75\n",
        "  * smokes = 1.0\n"
      ],
      "id": "850bdfe1"
    },
    {
      "cell_type": "code",
      "metadata": {
        "id": "355f2ef0"
      },
      "source": [
        "df3 = df2.withColumn(\"gender\", when(df2.gender == \"Male\",1) \\\n",
        "      .when(df2.gender == \"Female\",0) \\\n",
        "      .otherwise(0))"
      ],
      "id": "355f2ef0",
      "execution_count": 72,
      "outputs": []
    },
    {
      "cell_type": "code",
      "metadata": {
        "id": "Rax5-dv93OdZ"
      },
      "source": [
        "df3 =df3.withColumn(\"smoking_status\", when(df3.smoking_status == 'never smoked', 0) \\\n",
        "      .when(df3.smoking_status == 'Unknown' , 0.5) \\\n",
        "      .when(df3.smoking_status == 'formerly smoked', 0.75)\\\n",
        "      .otherwise(1))"
      ],
      "id": "Rax5-dv93OdZ",
      "execution_count": 73,
      "outputs": []
    },
    {
      "cell_type": "markdown",
      "metadata": {
        "id": "3da38a31"
      },
      "source": [
        "#### Show the output DataFrame\n",
        "- Select and show the gender & smoking_status columns after value changing.\n",
        "- Print schema for the new dataframe."
      ],
      "id": "3da38a31"
    },
    {
      "cell_type": "code",
      "metadata": {
        "colab": {
          "base_uri": "https://localhost:8080/"
        },
        "id": "j2pQgOAh5wUv",
        "outputId": "bb30160e-9874-4b1f-ed60-46061736b027"
      },
      "source": [
        "df3.select(['gender','smoking_status']).show()"
      ],
      "id": "j2pQgOAh5wUv",
      "execution_count": 74,
      "outputs": [
        {
          "output_type": "stream",
          "name": "stdout",
          "text": [
            "+------+--------------+\n",
            "|gender|smoking_status|\n",
            "+------+--------------+\n",
            "|     1|          0.75|\n",
            "|     0|           0.0|\n",
            "|     1|           0.0|\n",
            "|     0|           1.0|\n",
            "|     0|           0.0|\n",
            "|     1|          0.75|\n",
            "|     1|           0.0|\n",
            "|     0|           0.0|\n",
            "|     0|           0.5|\n",
            "|     0|           0.5|\n",
            "|     0|           0.0|\n",
            "|     0|           1.0|\n",
            "|     0|           1.0|\n",
            "|     1|           0.5|\n",
            "|     0|           0.0|\n",
            "|     0|           0.0|\n",
            "|     1|           1.0|\n",
            "|     1|           1.0|\n",
            "|     0|           0.0|\n",
            "|     1|           0.5|\n",
            "+------+--------------+\n",
            "only showing top 20 rows\n",
            "\n"
          ]
        }
      ]
    },
    {
      "cell_type": "code",
      "metadata": {
        "colab": {
          "base_uri": "https://localhost:8080/"
        },
        "id": "BcYjE2V--CDE",
        "outputId": "0b3b9a20-916f-4e86-aed3-eccfc469682e"
      },
      "source": [
        "df3.printSchema()"
      ],
      "id": "BcYjE2V--CDE",
      "execution_count": 75,
      "outputs": [
        {
          "output_type": "stream",
          "name": "stdout",
          "text": [
            "root\n",
            " |-- id: integer (nullable = true)\n",
            " |-- gender: integer (nullable = false)\n",
            " |-- age: double (nullable = true)\n",
            " |-- hypertension: integer (nullable = true)\n",
            " |-- heart_disease: integer (nullable = true)\n",
            " |-- ever_married: string (nullable = true)\n",
            " |-- work_type: string (nullable = true)\n",
            " |-- Residence_type: string (nullable = true)\n",
            " |-- avg_glucose_level: double (nullable = true)\n",
            " |-- bmi: double (nullable = true)\n",
            " |-- smoking_status: double (nullable = false)\n",
            " |-- stroke: integer (nullable = true)\n",
            "\n"
          ]
        }
      ]
    },
    {
      "cell_type": "markdown",
      "metadata": {
        "id": "89ce3b77"
      },
      "source": [
        "### Deal with null value according to your data analysis."
      ],
      "id": "89ce3b77"
    },
    {
      "cell_type": "code",
      "metadata": {
        "id": "097pvGVH6anc"
      },
      "source": [
        "df4=df3.dropna()"
      ],
      "id": "097pvGVH6anc",
      "execution_count": 76,
      "outputs": []
    },
    {
      "cell_type": "code",
      "metadata": {
        "colab": {
          "base_uri": "https://localhost:8080/"
        },
        "id": "CQCoQqUD7LE8",
        "outputId": "4e78244b-2bb5-424e-c14c-3ea4bb7175ea"
      },
      "source": [
        "df4.select([count(when(isnan(c) | col(c).isNull(), c)).alias(c) for c in df.columns]\n",
        "   ).show()"
      ],
      "id": "CQCoQqUD7LE8",
      "execution_count": 77,
      "outputs": [
        {
          "output_type": "stream",
          "name": "stdout",
          "text": [
            "+---+------+---+------------+-------------+------------+---------+--------------+-----------------+---+--------------+------+\n",
            "| id|gender|age|hypertension|heart_disease|ever_married|work_type|Residence_type|avg_glucose_level|bmi|smoking_status|stroke|\n",
            "+---+------+---+------------+-------------+------------+---------+--------------+-----------------+---+--------------+------+\n",
            "|  0|     0|  0|           0|            0|           0|        0|             0|                0|  0|             0|     0|\n",
            "+---+------+---+------------+-------------+------------+---------+--------------+-----------------+---+--------------+------+\n",
            "\n"
          ]
        }
      ]
    },
    {
      "cell_type": "code",
      "metadata": {
        "id": "4d78cb87",
        "colab": {
          "base_uri": "https://localhost:8080/"
        },
        "outputId": "68998114-00db-4e99-f96b-8f8b0b3a4eb7"
      },
      "source": [
        "df4.show()"
      ],
      "id": "4d78cb87",
      "execution_count": 78,
      "outputs": [
        {
          "output_type": "stream",
          "name": "stdout",
          "text": [
            "+-----+------+----+------------+-------------+------------+-------------+--------------+-----------------+----+--------------+------+\n",
            "|   id|gender| age|hypertension|heart_disease|ever_married|    work_type|Residence_type|avg_glucose_level| bmi|smoking_status|stroke|\n",
            "+-----+------+----+------------+-------------+------------+-------------+--------------+-----------------+----+--------------+------+\n",
            "| 9046|     1|67.0|           0|            1|         Yes|      Private|         Urban|           228.69|36.6|          0.75|     1|\n",
            "|31112|     1|80.0|           0|            1|         Yes|      Private|         Rural|           105.92|32.5|           0.0|     1|\n",
            "|60182|     0|49.0|           0|            0|         Yes|      Private|         Urban|           171.23|34.4|           1.0|     1|\n",
            "| 1665|     0|79.0|           1|            0|         Yes|Self-employed|         Rural|           174.12|24.0|           0.0|     1|\n",
            "|56669|     1|81.0|           0|            0|         Yes|      Private|         Urban|           186.21|29.0|          0.75|     1|\n",
            "|53882|     1|74.0|           1|            1|         Yes|      Private|         Rural|            70.09|27.4|           0.0|     1|\n",
            "|10434|     0|69.0|           0|            0|          No|      Private|         Urban|            94.39|22.8|           0.0|     1|\n",
            "|60491|     0|78.0|           0|            0|         Yes|      Private|         Urban|            58.57|24.2|           0.5|     1|\n",
            "|12109|     0|81.0|           1|            0|         Yes|      Private|         Rural|            80.43|29.7|           0.0|     1|\n",
            "|12095|     0|61.0|           0|            1|         Yes|     Govt_job|         Rural|           120.46|36.8|           1.0|     1|\n",
            "|12175|     0|54.0|           0|            0|         Yes|      Private|         Urban|           104.51|27.3|           1.0|     1|\n",
            "| 5317|     0|79.0|           0|            1|         Yes|      Private|         Urban|           214.09|28.2|           0.0|     1|\n",
            "|58202|     0|50.0|           1|            0|         Yes|Self-employed|         Rural|           167.41|30.9|           0.0|     1|\n",
            "|56112|     1|64.0|           0|            1|         Yes|      Private|         Urban|           191.61|37.5|           1.0|     1|\n",
            "|34120|     1|75.0|           1|            0|         Yes|      Private|         Urban|           221.29|25.8|           1.0|     1|\n",
            "|27458|     0|60.0|           0|            0|          No|      Private|         Urban|            89.22|37.8|           0.0|     1|\n",
            "|70630|     0|71.0|           0|            0|         Yes|     Govt_job|         Rural|           193.94|22.4|           1.0|     1|\n",
            "|13861|     0|52.0|           1|            0|         Yes|Self-employed|         Urban|           233.29|48.9|           0.0|     1|\n",
            "|68794|     0|79.0|           0|            0|         Yes|Self-employed|         Urban|            228.7|26.6|           0.0|     1|\n",
            "|64778|     1|82.0|           0|            1|         Yes|      Private|         Rural|            208.3|32.5|           0.5|     1|\n",
            "+-----+------+----+------------+-------------+------------+-------------+--------------+-----------------+----+--------------+------+\n",
            "only showing top 20 rows\n",
            "\n"
          ]
        }
      ]
    },
    {
      "cell_type": "markdown",
      "metadata": {
        "id": "053c429a"
      },
      "source": [
        "### Split the data into training and test dataframes:\n",
        "- 80% training and 20% test.\n",
        "- seed = 42.\n",
        "- Save each dataframe as a parquet file"
      ],
      "id": "053c429a"
    },
    {
      "cell_type": "code",
      "metadata": {
        "id": "0236ea8b"
      },
      "source": [
        "trainDF, testDF = df4.randomSplit([0.8, 0.2], seed=42)\n"
      ],
      "id": "0236ea8b",
      "execution_count": 79,
      "outputs": []
    },
    {
      "cell_type": "code",
      "metadata": {
        "id": "q-ZzXbB189An"
      },
      "source": [
        "trainDF.write.parquet(\"trainDF.parquet\",  mode = 'overwrite')\n",
        "testDF.write.parquet(\"testDF.parquet\",  mode = 'overwrite')"
      ],
      "id": "q-ZzXbB189An",
      "execution_count": 80,
      "outputs": []
    },
    {
      "cell_type": "markdown",
      "metadata": {
        "id": "78fa24da"
      },
      "source": [
        "### Read the saved Train and Test DataFrame:\n",
        "- Use the dataframes you read in the subsequent steps."
      ],
      "id": "78fa24da"
    },
    {
      "cell_type": "code",
      "metadata": {
        "id": "c3f5c1e3"
      },
      "source": [
        "trainDF = spark.read.parquet('trainDF.parquet')\n",
        "testDF = spark.read.parquet('testDF.parquet')"
      ],
      "id": "c3f5c1e3",
      "execution_count": 81,
      "outputs": []
    },
    {
      "cell_type": "code",
      "source": [
        "trainDF.count()"
      ],
      "metadata": {
        "colab": {
          "base_uri": "https://localhost:8080/"
        },
        "id": "Gl9xibgBE_Nv",
        "outputId": "ecf253c1-1472-48fd-b6d7-b7c5f08c22d0"
      },
      "id": "Gl9xibgBE_Nv",
      "execution_count": 82,
      "outputs": [
        {
          "output_type": "execute_result",
          "data": {
            "text/plain": [
              "3877"
            ]
          },
          "metadata": {},
          "execution_count": 82
        }
      ]
    },
    {
      "cell_type": "code",
      "source": [
        "testDF.count()"
      ],
      "metadata": {
        "colab": {
          "base_uri": "https://localhost:8080/"
        },
        "id": "7gZGPE-lFCGm",
        "outputId": "5dd1afee-13c3-4df0-ac29-7db10364b65c"
      },
      "id": "7gZGPE-lFCGm",
      "execution_count": 83,
      "outputs": [
        {
          "output_type": "execute_result",
          "data": {
            "text/plain": [
              "918"
            ]
          },
          "metadata": {},
          "execution_count": 83
        }
      ]
    },
    {
      "cell_type": "markdown",
      "metadata": {
        "id": "987b4b40"
      },
      "source": [
        "### Create the model:\n",
        "- Perform feature engineering steps.\n",
        "- Create the logistic regression classifier.\n",
        "- Build the pipeline model that uses all feature engineering steps and the model.\n",
        "- Train the pipeline model using the trainig dataset."
      ],
      "id": "987b4b40"
    },
    {
      "cell_type": "code",
      "metadata": {
        "id": "jAbUCLcw-xSa",
        "colab": {
          "base_uri": "https://localhost:8080/"
        },
        "outputId": "f9fcc99f-6db7-4132-eb84-60f74b82694a"
      },
      "source": [
        "trainDF.show()"
      ],
      "id": "jAbUCLcw-xSa",
      "execution_count": 84,
      "outputs": [
        {
          "output_type": "stream",
          "name": "stdout",
          "text": [
            "+---+------+----+------------+-------------+------------+-------------+--------------+-----------------+----+--------------+------+\n",
            "| id|gender| age|hypertension|heart_disease|ever_married|    work_type|Residence_type|avg_glucose_level| bmi|smoking_status|stroke|\n",
            "+---+------+----+------------+-------------+------------+-------------+--------------+-----------------+----+--------------+------+\n",
            "| 77|     0|13.0|           0|            0|          No|     children|         Rural|            85.81|18.6|           0.5|     0|\n",
            "| 84|     1|55.0|           0|            0|         Yes|      Private|         Urban|            89.17|31.5|           0.0|     0|\n",
            "| 99|     0|31.0|           0|            0|          No|      Private|         Urban|           108.89|52.3|           0.5|     0|\n",
            "|129|     0|24.0|           0|            0|          No|      Private|         Urban|            97.55|26.2|           0.0|     0|\n",
            "|156|     0|33.0|           0|            0|         Yes|      Private|         Rural|            86.97|42.2|           0.0|     0|\n",
            "|187|     0|20.0|           0|            0|          No|      Private|         Rural|            84.07|27.6|           1.0|     0|\n",
            "|210|     1|81.0|           0|            0|         Yes|Self-employed|         Rural|            91.54|31.4|           0.0|     1|\n",
            "|239|     1|59.0|           1|            1|         Yes|      Private|         Rural|           246.53|27.2|          0.75|     0|\n",
            "|242|     1| 4.0|           0|            0|          No|     children|         Urban|            98.56|17.5|           0.5|     0|\n",
            "|247|     1|31.0|           0|            0|          No|      Private|         Urban|             72.6|31.6|           0.0|     0|\n",
            "|315|     1|45.0|           0|            0|         Yes|      Private|         Rural|            65.42|39.7|           0.0|     0|\n",
            "|321|     0|79.0|           0|            0|          No|Self-employed|         Rural|            71.98|36.4|           0.0|     0|\n",
            "|338|     0|43.0|           0|            0|         Yes|      Private|         Rural|           110.32|28.4|           0.0|     0|\n",
            "|354|     0|65.0|           0|            0|         Yes|      Private|         Urban|            72.49|28.9|           1.0|     0|\n",
            "|355|     1| 8.0|           0|            0|          No|     children|         Rural|            96.43|25.7|           0.5|     0|\n",
            "|365|     0|44.0|           1|            0|         Yes|      Private|         Rural|            69.48|41.3|           0.0|     0|\n",
            "|394|     1|78.0|           1|            0|         Yes|Self-employed|         Rural|            75.19|27.6|           0.0|     0|\n",
            "|452|     1|48.0|           1|            0|         Yes|      Private|         Urban|           173.14|37.0|           1.0|     0|\n",
            "|464|     1|46.0|           0|            0|         Yes|      Private|         Rural|            78.44|23.9|           0.0|     0|\n",
            "|479|     0|59.0|           1|            0|         Yes|      Private|         Rural|            78.28|31.0|          0.75|     0|\n",
            "+---+------+----+------------+-------------+------------+-------------+--------------+-----------------+----+--------------+------+\n",
            "only showing top 20 rows\n",
            "\n"
          ]
        }
      ]
    },
    {
      "cell_type": "code",
      "metadata": {
        "id": "3278e362"
      },
      "source": [
        "trainDF=trainDF.drop('id')\n",
        "testDF=testDF.drop('id')\n"
      ],
      "id": "3278e362",
      "execution_count": 85,
      "outputs": []
    },
    {
      "cell_type": "code",
      "metadata": {
        "id": "4e41b352"
      },
      "source": [
        "from pyspark.ml.feature import StringIndexer,OneHotEncoder,VectorAssembler\n",
        "from pyspark.ml import Pipeline\n",
        "from pyspark.ml.classification import LogisticRegression"
      ],
      "id": "4e41b352",
      "execution_count": 86,
      "outputs": []
    },
    {
      "cell_type": "code",
      "metadata": {
        "id": "106453d7",
        "colab": {
          "base_uri": "https://localhost:8080/"
        },
        "outputId": "fe580fdb-293b-4c87-8a4e-7f1e96b511fb"
      },
      "source": [
        "trainDF.dtypes"
      ],
      "id": "106453d7",
      "execution_count": 87,
      "outputs": [
        {
          "output_type": "execute_result",
          "data": {
            "text/plain": [
              "[('gender', 'int'),\n",
              " ('age', 'double'),\n",
              " ('hypertension', 'int'),\n",
              " ('heart_disease', 'int'),\n",
              " ('ever_married', 'string'),\n",
              " ('work_type', 'string'),\n",
              " ('Residence_type', 'string'),\n",
              " ('avg_glucose_level', 'double'),\n",
              " ('bmi', 'double'),\n",
              " ('smoking_status', 'double'),\n",
              " ('stroke', 'int')]"
            ]
          },
          "metadata": {},
          "execution_count": 87
        }
      ]
    },
    {
      "cell_type": "code",
      "metadata": {
        "id": "7vDFvHhl-6fD"
      },
      "source": [
        "lstDtypes = trainDF.dtypes"
      ],
      "id": "7vDFvHhl-6fD",
      "execution_count": 88,
      "outputs": []
    },
    {
      "cell_type": "code",
      "metadata": {
        "colab": {
          "base_uri": "https://localhost:8080/"
        },
        "id": "0lhwlElR-_PC",
        "outputId": "473d69eb-a25a-4ea2-e69d-a74589d5c082"
      },
      "source": [
        "categoricalCols = [f for (f,d) in lstDtypes if d == 'string']\n",
        "categoricalCols"
      ],
      "id": "0lhwlElR-_PC",
      "execution_count": 91,
      "outputs": [
        {
          "output_type": "execute_result",
          "data": {
            "text/plain": [
              "['ever_married', 'work_type', 'Residence_type']"
            ]
          },
          "metadata": {},
          "execution_count": 91
        }
      ]
    },
    {
      "cell_type": "code",
      "metadata": {
        "colab": {
          "base_uri": "https://localhost:8080/"
        },
        "id": "yfhDuaMF_cyN",
        "outputId": "807f36c9-0d75-416d-e384-d221b5c4816c"
      },
      "source": [
        "indexOutputCols = [f + \"_Index\" for f in categoricalCols]\n",
        "indexOutputCols"
      ],
      "id": "yfhDuaMF_cyN",
      "execution_count": 92,
      "outputs": [
        {
          "output_type": "execute_result",
          "data": {
            "text/plain": [
              "['ever_married_Index', 'work_type_Index', 'Residence_type_Index']"
            ]
          },
          "metadata": {},
          "execution_count": 92
        }
      ]
    },
    {
      "cell_type": "code",
      "metadata": {
        "colab": {
          "base_uri": "https://localhost:8080/"
        },
        "id": "OrZ-UDZtDxUm",
        "outputId": "897d1ead-effd-4d41-c3fe-38df65d7f9b3"
      },
      "source": [
        "oheOutputCols = [f + \"_OHE\" for f in categoricalCols]\n",
        "oheOutputCols"
      ],
      "id": "OrZ-UDZtDxUm",
      "execution_count": 93,
      "outputs": [
        {
          "output_type": "execute_result",
          "data": {
            "text/plain": [
              "['ever_married_OHE', 'work_type_OHE', 'Residence_type_OHE']"
            ]
          },
          "metadata": {},
          "execution_count": 93
        }
      ]
    },
    {
      "cell_type": "code",
      "metadata": {
        "id": "pWzG8fK-_g7B",
        "colab": {
          "base_uri": "https://localhost:8080/"
        },
        "outputId": "2cbb4b38-b154-4191-ce62-44ef837c43c1"
      },
      "source": [
        "numericCols = [f for (f,d) in lstDtypes if ((d == 'double') or (d == 'int') & (f!='stroke'))]\n",
        "numericCols"
      ],
      "id": "pWzG8fK-_g7B",
      "execution_count": 94,
      "outputs": [
        {
          "output_type": "execute_result",
          "data": {
            "text/plain": [
              "['gender',\n",
              " 'age',\n",
              " 'hypertension',\n",
              " 'heart_disease',\n",
              " 'avg_glucose_level',\n",
              " 'bmi',\n",
              " 'smoking_status']"
            ]
          },
          "metadata": {},
          "execution_count": 94
        }
      ]
    },
    {
      "cell_type": "code",
      "metadata": {
        "id": "BESEYkGQ_gq0",
        "colab": {
          "base_uri": "https://localhost:8080/"
        },
        "outputId": "23da58cf-c483-4021-c6f4-29d5a8041fcd"
      },
      "source": [
        "assemblerInputs = oheOutputCols + numericCols\n",
        "assemblerInputs"
      ],
      "id": "BESEYkGQ_gq0",
      "execution_count": 95,
      "outputs": [
        {
          "output_type": "execute_result",
          "data": {
            "text/plain": [
              "['ever_married_OHE',\n",
              " 'work_type_OHE',\n",
              " 'Residence_type_OHE',\n",
              " 'gender',\n",
              " 'age',\n",
              " 'hypertension',\n",
              " 'heart_disease',\n",
              " 'avg_glucose_level',\n",
              " 'bmi',\n",
              " 'smoking_status']"
            ]
          },
          "metadata": {},
          "execution_count": 95
        }
      ]
    },
    {
      "cell_type": "code",
      "metadata": {
        "id": "V1R1vL0EAwt0"
      },
      "source": [
        "stringIndexer = StringIndexer(inputCols=categoricalCols,outputCols=indexOutputCols\n",
        "                             ,handleInvalid='skip')\n",
        "\n",
        "oheEncoder = OneHotEncoder(inputCols=indexOutputCols,outputCols=oheOutputCols)\n",
        "\n",
        "vecAssembler = VectorAssembler(inputCols=assemblerInputs,outputCol='features')"
      ],
      "id": "V1R1vL0EAwt0",
      "execution_count": 96,
      "outputs": []
    },
    {
      "cell_type": "code",
      "metadata": {
        "id": "CSFU_B6BA7lu"
      },
      "source": [
        "lg = LogisticRegression(labelCol='stroke')"
      ],
      "id": "CSFU_B6BA7lu",
      "execution_count": 97,
      "outputs": []
    },
    {
      "cell_type": "code",
      "source": [
        "mystages=[stringIndexer,oheEncoder,vecAssembler,lg]"
      ],
      "metadata": {
        "id": "0AAyXAGAFy-i"
      },
      "id": "0AAyXAGAFy-i",
      "execution_count": 98,
      "outputs": []
    },
    {
      "cell_type": "code",
      "source": [
        "pl = Pipeline(stages=mystages)"
      ],
      "metadata": {
        "id": "RgFhNIv9Fy3q"
      },
      "id": "RgFhNIv9Fy3q",
      "execution_count": 99,
      "outputs": []
    },
    {
      "cell_type": "code",
      "source": [
        "pipelineModel= pl.fit(trainDF)"
      ],
      "metadata": {
        "id": "FBUtminzF30h"
      },
      "id": "FBUtminzF30h",
      "execution_count": 100,
      "outputs": []
    },
    {
      "cell_type": "markdown",
      "metadata": {
        "id": "a05c2677"
      },
      "source": [
        "### Perform predictions on tests dataframe:\n",
        "- Test the model using the test dataframe\n",
        "- Select and show the feature column.\n",
        "- Print the schema of the output dataframe.\n",
        "- Select and show both prediction and label columns.\n",
        "- Explore the results for the label column stroke=1. i.e. select both columns (prediction,stroke) for stroke=1.<b>notice the result.</b> \n",
        "- Count the predicted 1 and 0 values.<b>notice the result.</b>   "
      ],
      "id": "a05c2677"
    },
    {
      "cell_type": "code",
      "metadata": {
        "id": "p82VtrCqBZqy"
      },
      "source": [
        "predDF = pipelineModel.transform(testDF)"
      ],
      "id": "p82VtrCqBZqy",
      "execution_count": 101,
      "outputs": []
    },
    {
      "cell_type": "code",
      "metadata": {
        "colab": {
          "base_uri": "https://localhost:8080/"
        },
        "id": "Qie_rnhWBie_",
        "outputId": "69ecd46c-46bf-4086-cd82-5bbeba4eea34"
      },
      "source": [
        "predDF.select('features').show(truncate=False)"
      ],
      "id": "Qie_rnhWBie_",
      "execution_count": 103,
      "outputs": [
        {
          "output_type": "stream",
          "name": "stdout",
          "text": [
            "+-----------------------------------------------------------+\n",
            "|features                                                   |\n",
            "+-----------------------------------------------------------+\n",
            "|(13,[1,5,7,10,11],[1.0,1.0,42.0,98.53,18.5])               |\n",
            "|(13,[1,7,10,11,12],[1.0,20.0,94.67,28.8,0.5])              |\n",
            "|(13,[0,1,7,10,11,12],[1.0,1.0,43.0,88.23,37.6,0.5])        |\n",
            "|(13,[0,1,5,6,7,10,11],[1.0,1.0,1.0,1.0,79.0,198.79,24.9])  |\n",
            "|(13,[0,1,5,7,10,11,12],[1.0,1.0,1.0,58.0,105.74,26.8,0.75])|\n",
            "|(13,[0,3,5,7,10,11,12],[1.0,1.0,1.0,37.0,72.09,24.1,1.0])  |\n",
            "|(13,[4,7,10,11,12],[1.0,3.0,94.12,21.4,0.5])               |\n",
            "|(13,[4,7,10,11,12],[1.0,14.0,92.22,22.8,0.5])              |\n",
            "|(13,[3,7,10,11],[1.0,39.0,87.33,34.3])                     |\n",
            "|(13,[4,7,10,11,12],[1.0,5.0,75.1,20.7,0.5])                |\n",
            "|(13,[0,2,5,7,10,11,12],[1.0,1.0,1.0,74.0,68.18,27.3,0.75]) |\n",
            "|(13,[1,7,10,11],[1.0,16.0,87.54,37.8])                     |\n",
            "|(13,[0,1,5,6,7,10,11],[1.0,1.0,1.0,1.0,34.0,83.75,37.0])   |\n",
            "|(13,[4,6,7,10,11,12],[1.0,1.0,3.0,65.85,17.0,0.5])         |\n",
            "|(13,[1,5,7,10,11],[1.0,1.0,14.0,83.42,28.7])               |\n",
            "|(13,[0,1,7,10,11,12],[1.0,1.0,68.0,211.06,39.3,0.5])       |\n",
            "|(13,[0,1,7,10,11],[1.0,1.0,45.0,87.47,21.5])               |\n",
            "|[1.0,0.0,1.0,0.0,0.0,1.0,1.0,33.0,0.0,0.0,90.68,31.7,1.0]  |\n",
            "|(13,[0,2,5,7,10,11],[1.0,1.0,1.0,31.0,82.31,31.9])         |\n",
            "|(13,[0,1,7,8,10,11,12],[1.0,1.0,67.0,1.0,179.12,28.1,0.75])|\n",
            "+-----------------------------------------------------------+\n",
            "only showing top 20 rows\n",
            "\n"
          ]
        }
      ]
    },
    {
      "cell_type": "code",
      "metadata": {
        "id": "3ea267eb",
        "colab": {
          "base_uri": "https://localhost:8080/"
        },
        "outputId": "344c5b9f-91ee-4a3b-d705-cca13ad43d9d"
      },
      "source": [
        "predDF.select('stroke','prediction').show()"
      ],
      "id": "3ea267eb",
      "execution_count": 104,
      "outputs": [
        {
          "output_type": "stream",
          "name": "stdout",
          "text": [
            "+------+----------+\n",
            "|stroke|prediction|\n",
            "+------+----------+\n",
            "|     0|       0.0|\n",
            "|     0|       0.0|\n",
            "|     0|       0.0|\n",
            "|     0|       0.0|\n",
            "|     0|       0.0|\n",
            "|     0|       0.0|\n",
            "|     0|       0.0|\n",
            "|     0|       0.0|\n",
            "|     0|       0.0|\n",
            "|     0|       0.0|\n",
            "|     0|       0.0|\n",
            "|     0|       0.0|\n",
            "|     0|       0.0|\n",
            "|     0|       0.0|\n",
            "|     0|       0.0|\n",
            "|     1|       0.0|\n",
            "|     0|       0.0|\n",
            "|     0|       0.0|\n",
            "|     0|       0.0|\n",
            "|     1|       0.0|\n",
            "+------+----------+\n",
            "only showing top 20 rows\n",
            "\n"
          ]
        }
      ]
    },
    {
      "cell_type": "code",
      "metadata": {
        "scrolled": false,
        "id": "480d892e",
        "colab": {
          "base_uri": "https://localhost:8080/"
        },
        "outputId": "73677cb1-c92c-42b7-a15f-7a692019fbff"
      },
      "source": [
        "predDF.select('features','prediction').show()"
      ],
      "id": "480d892e",
      "execution_count": 107,
      "outputs": [
        {
          "output_type": "stream",
          "name": "stdout",
          "text": [
            "+--------------------+----------+\n",
            "|            features|prediction|\n",
            "+--------------------+----------+\n",
            "|(13,[1,5,7,10,11]...|       0.0|\n",
            "|(13,[1,7,10,11,12...|       0.0|\n",
            "|(13,[0,1,7,10,11,...|       0.0|\n",
            "|(13,[0,1,5,6,7,10...|       0.0|\n",
            "|(13,[0,1,5,7,10,1...|       0.0|\n",
            "|(13,[0,3,5,7,10,1...|       0.0|\n",
            "|(13,[4,7,10,11,12...|       0.0|\n",
            "|(13,[4,7,10,11,12...|       0.0|\n",
            "|(13,[3,7,10,11],[...|       0.0|\n",
            "|(13,[4,7,10,11,12...|       0.0|\n",
            "|(13,[0,2,5,7,10,1...|       0.0|\n",
            "|(13,[1,7,10,11],[...|       0.0|\n",
            "|(13,[0,1,5,6,7,10...|       0.0|\n",
            "|(13,[4,6,7,10,11,...|       0.0|\n",
            "|(13,[1,5,7,10,11]...|       0.0|\n",
            "|(13,[0,1,7,10,11,...|       0.0|\n",
            "|(13,[0,1,7,10,11]...|       0.0|\n",
            "|[1.0,0.0,1.0,0.0,...|       0.0|\n",
            "|(13,[0,2,5,7,10,1...|       0.0|\n",
            "|(13,[0,1,7,8,10,1...|       0.0|\n",
            "+--------------------+----------+\n",
            "only showing top 20 rows\n",
            "\n"
          ]
        }
      ]
    },
    {
      "cell_type": "code",
      "metadata": {
        "colab": {
          "base_uri": "https://localhost:8080/"
        },
        "id": "QWvK_dN9DTbu",
        "outputId": "b508be98-e9d7-4cf6-ac12-c6ac2147d8f0"
      },
      "source": [
        "predDF.select('stroke','prediction').filter(predDF['stroke'] == 1).show()"
      ],
      "id": "QWvK_dN9DTbu",
      "execution_count": 108,
      "outputs": [
        {
          "output_type": "stream",
          "name": "stdout",
          "text": [
            "+------+----------+\n",
            "|stroke|prediction|\n",
            "+------+----------+\n",
            "|     1|       0.0|\n",
            "|     1|       0.0|\n",
            "|     1|       0.0|\n",
            "|     1|       0.0|\n",
            "|     1|       0.0|\n",
            "|     1|       0.0|\n",
            "|     1|       0.0|\n",
            "|     1|       0.0|\n",
            "|     1|       0.0|\n",
            "|     1|       0.0|\n",
            "|     1|       0.0|\n",
            "|     1|       0.0|\n",
            "|     1|       0.0|\n",
            "|     1|       0.0|\n",
            "|     1|       0.0|\n",
            "|     1|       0.0|\n",
            "|     1|       0.0|\n",
            "|     1|       0.0|\n",
            "|     1|       0.0|\n",
            "|     1|       0.0|\n",
            "+------+----------+\n",
            "only showing top 20 rows\n",
            "\n"
          ]
        }
      ]
    },
    {
      "cell_type": "code",
      "metadata": {
        "colab": {
          "base_uri": "https://localhost:8080/"
        },
        "id": "szh8FPCFDftz",
        "outputId": "8ca696e5-d168-4528-8ccb-ff934ce37613"
      },
      "source": [
        "predDF.filter(predDF['stroke'] == 0).count()"
      ],
      "id": "szh8FPCFDftz",
      "execution_count": 109,
      "outputs": [
        {
          "output_type": "execute_result",
          "data": {
            "text/plain": [
              "881"
            ]
          },
          "metadata": {},
          "execution_count": 109
        }
      ]
    },
    {
      "cell_type": "code",
      "source": [
        "predDF.filter(predDF['prediction'] == 0).count()"
      ],
      "metadata": {
        "colab": {
          "base_uri": "https://localhost:8080/"
        },
        "id": "CUKCUELSGcse",
        "outputId": "84a29df3-d8a9-4d00-da96-076e4084499f"
      },
      "id": "CUKCUELSGcse",
      "execution_count": 110,
      "outputs": [
        {
          "output_type": "execute_result",
          "data": {
            "text/plain": [
              "918"
            ]
          },
          "metadata": {},
          "execution_count": 110
        }
      ]
    },
    {
      "cell_type": "code",
      "source": [
        "predDF.filter(predDF['stroke'] == 1).count()"
      ],
      "metadata": {
        "colab": {
          "base_uri": "https://localhost:8080/"
        },
        "id": "7TTu3foGGcih",
        "outputId": "dbe08080-441d-4f05-e585-5a6e971f8299"
      },
      "id": "7TTu3foGGcih",
      "execution_count": 111,
      "outputs": [
        {
          "output_type": "execute_result",
          "data": {
            "text/plain": [
              "37"
            ]
          },
          "metadata": {},
          "execution_count": 111
        }
      ]
    },
    {
      "cell_type": "code",
      "source": [
        "predDF.filter(predDF['prediction'] == 1).count()"
      ],
      "metadata": {
        "colab": {
          "base_uri": "https://localhost:8080/"
        },
        "id": "_d3iHKdoGcau",
        "outputId": "bd1e4481-b774-4c92-9985-0fe1d74ee1c0"
      },
      "id": "_d3iHKdoGcau",
      "execution_count": 112,
      "outputs": [
        {
          "output_type": "execute_result",
          "data": {
            "text/plain": [
              "0"
            ]
          },
          "metadata": {},
          "execution_count": 112
        }
      ]
    },
    {
      "cell_type": "markdown",
      "metadata": {
        "id": "daec120f"
      },
      "source": [
        "### Evaluate the model performance\n",
        "- Use <b>BinaryClassificationEvaluator</b>. This will calculate the <b>ROC</b>.\n",
        "- Set the parameters as follow:\n",
        "    - <b>rawPredictionCol='prediction'</b> and <b>labelCol='stroke'</b>"
      ],
      "id": "daec120f"
    },
    {
      "cell_type": "code",
      "metadata": {
        "id": "a7b5ad25"
      },
      "source": [
        "from pyspark.ml.evaluation import BinaryClassificationEvaluator"
      ],
      "id": "a7b5ad25",
      "execution_count": 113,
      "outputs": []
    },
    {
      "cell_type": "code",
      "metadata": {
        "id": "44d3a1e6"
      },
      "source": [
        "evaluatorROC = BinaryClassificationEvaluator(rawPredictionCol='prediction'\n",
        "                                             ,labelCol='stroke')"
      ],
      "id": "44d3a1e6",
      "execution_count": 114,
      "outputs": []
    },
    {
      "cell_type": "code",
      "metadata": {
        "colab": {
          "base_uri": "https://localhost:8080/"
        },
        "id": "_AyMAvUIDpKd",
        "outputId": "5717753d-3aae-4b41-c433-27e06b6ccf48"
      },
      "source": [
        "evaluatorROC.evaluate(predDF)"
      ],
      "id": "_AyMAvUIDpKd",
      "execution_count": 115,
      "outputs": [
        {
          "output_type": "execute_result",
          "data": {
            "text/plain": [
              "0.5"
            ]
          },
          "metadata": {},
          "execution_count": 115
        }
      ]
    },
    {
      "cell_type": "markdown",
      "metadata": {
        "id": "40206589"
      },
      "source": [
        "### Improve Model Performance\n",
        "- You may noticed that <b>the target label is imbalanced</b>.\n",
        "- LogisticRegression classifier has a special parameter <b>weightCol</b> to deal with imbalanced class.\n",
        "- In order to use this parameter you must have a <b>weightCol</b> in your training dataframe.\n",
        "- In order to create this column you will need to define a <b>UDF</b> and apply it to the target label column.\n",
        "- Create a LogisticRegression classifier with <b>weightCol</b> parameter.\n",
        "- Build and train a pipeline model with the new LogisticRegression.\n",
        "- Perform the prediction on the test dataframe. \n",
        "- Select and show both prediction and label columns.\n",
        "- Explore the results for the label column stroke=1. i.e. select both columns (prediction,stroke) for stroke=1.<b>notice the result.</b> \n",
        "- Count the predicted 1 and 0 values.<b>notice the result.</b>   \n",
        "- Evaluate the model performance exactly as in the previous step.\n",
        "### YOU SHOULD OBTAIN  ROC > 0.65\n",
        "<BR>\n",
        "<b><font color='red'>Note: feel free to deal with the imbalanced cluster with the above method or another. However, you can only use methods applied on SPARK DATAFRAME</font></b>"
      ],
      "id": "40206589"
    },
    {
      "cell_type": "code",
      "metadata": {
        "id": "lNCZqGlrG5mU"
      },
      "source": [
        "diff = trainDF.filter(trainDF['stroke'] == 0)\\\n",
        "        .count() / trainDF.count()\n",
        "OneWeight = 1 - diff\n",
        "ZeroWeight = diff\n"
      ],
      "id": "lNCZqGlrG5mU",
      "execution_count": 118,
      "outputs": []
    },
    {
      "cell_type": "code",
      "metadata": {
        "id": "rUyeylVyIShy"
      },
      "source": [
        "trainDF2 = trainDF.withColumn(\"weightCol\", when(trainDF.stroke == 0, OneWeight).when(trainDF.stroke == 1, ZeroWeight))"
      ],
      "id": "rUyeylVyIShy",
      "execution_count": 119,
      "outputs": []
    },
    {
      "cell_type": "code",
      "metadata": {
        "id": "vcsrthQnIfGW",
        "colab": {
          "base_uri": "https://localhost:8080/"
        },
        "outputId": "b3631206-cbb8-4800-f9d4-0cbda1b8fdd7"
      },
      "source": [
        "trainDF2.select('stroke','weightCol').show()"
      ],
      "id": "vcsrthQnIfGW",
      "execution_count": 120,
      "outputs": [
        {
          "output_type": "stream",
          "name": "stdout",
          "text": [
            "+------+-------------------+\n",
            "|stroke|          weightCol|\n",
            "+------+-------------------+\n",
            "|     0|0.04436419912303324|\n",
            "|     0|0.04436419912303324|\n",
            "|     0|0.04436419912303324|\n",
            "|     0|0.04436419912303324|\n",
            "|     0|0.04436419912303324|\n",
            "|     0|0.04436419912303324|\n",
            "|     1| 0.9556358008769668|\n",
            "|     0|0.04436419912303324|\n",
            "|     0|0.04436419912303324|\n",
            "|     0|0.04436419912303324|\n",
            "|     0|0.04436419912303324|\n",
            "|     0|0.04436419912303324|\n",
            "|     0|0.04436419912303324|\n",
            "|     0|0.04436419912303324|\n",
            "|     0|0.04436419912303324|\n",
            "|     0|0.04436419912303324|\n",
            "|     0|0.04436419912303324|\n",
            "|     0|0.04436419912303324|\n",
            "|     0|0.04436419912303324|\n",
            "|     0|0.04436419912303324|\n",
            "+------+-------------------+\n",
            "only showing top 20 rows\n",
            "\n"
          ]
        }
      ]
    },
    {
      "cell_type": "code",
      "metadata": {
        "id": "weUKZlLvIe9p"
      },
      "source": [
        "lgNew = LogisticRegression(labelCol='stroke', weightCol='weightCol')"
      ],
      "id": "weUKZlLvIe9p",
      "execution_count": 121,
      "outputs": []
    },
    {
      "cell_type": "code",
      "metadata": {
        "id": "XGNsNO49IezP"
      },
      "source": [
        "mystages2=[stringIndexer,oheEncoder,vecAssembler,lgNew]"
      ],
      "id": "XGNsNO49IezP",
      "execution_count": 122,
      "outputs": []
    },
    {
      "cell_type": "code",
      "metadata": {
        "id": "L_lBVsEuJQ33"
      },
      "source": [
        "pl2 = Pipeline(stages=mystages2)"
      ],
      "id": "L_lBVsEuJQ33",
      "execution_count": 123,
      "outputs": []
    },
    {
      "cell_type": "code",
      "metadata": {
        "id": "00e034e9"
      },
      "source": [
        "pipelineModel= pl2.fit(trainDF2)"
      ],
      "id": "00e034e9",
      "execution_count": 124,
      "outputs": []
    },
    {
      "cell_type": "code",
      "metadata": {
        "id": "66efa0c6"
      },
      "source": [
        "pred_W = pipelineModel.transform(testDF)"
      ],
      "id": "66efa0c6",
      "execution_count": 134,
      "outputs": []
    },
    {
      "cell_type": "code",
      "metadata": {
        "id": "4e8c18b5",
        "colab": {
          "base_uri": "https://localhost:8080/"
        },
        "outputId": "e91feb86-f018-4f56-eaeb-d8e22689a483"
      },
      "source": [
        "pred_W.select('stroke','prediction').show()"
      ],
      "id": "4e8c18b5",
      "execution_count": 136,
      "outputs": [
        {
          "output_type": "stream",
          "name": "stdout",
          "text": [
            "+------+----------+\n",
            "|stroke|prediction|\n",
            "+------+----------+\n",
            "|     0|       0.0|\n",
            "|     0|       0.0|\n",
            "|     0|       0.0|\n",
            "|     0|       1.0|\n",
            "|     0|       1.0|\n",
            "|     0|       0.0|\n",
            "|     0|       0.0|\n",
            "|     0|       0.0|\n",
            "|     0|       0.0|\n",
            "|     0|       0.0|\n",
            "|     0|       1.0|\n",
            "|     0|       0.0|\n",
            "|     0|       0.0|\n",
            "|     0|       0.0|\n",
            "|     0|       0.0|\n",
            "|     1|       1.0|\n",
            "|     0|       0.0|\n",
            "|     0|       0.0|\n",
            "|     0|       0.0|\n",
            "|     1|       1.0|\n",
            "+------+----------+\n",
            "only showing top 20 rows\n",
            "\n"
          ]
        }
      ]
    },
    {
      "cell_type": "code",
      "source": [
        "pred_W.select('features','prediction').show()"
      ],
      "metadata": {
        "colab": {
          "base_uri": "https://localhost:8080/"
        },
        "id": "4NPKXU4LHYR4",
        "outputId": "19479454-4d2c-4ce6-a94c-d13249d4906f"
      },
      "id": "4NPKXU4LHYR4",
      "execution_count": 137,
      "outputs": [
        {
          "output_type": "stream",
          "name": "stdout",
          "text": [
            "+--------------------+----------+\n",
            "|            features|prediction|\n",
            "+--------------------+----------+\n",
            "|(13,[1,5,7,10,11]...|       0.0|\n",
            "|(13,[1,7,10,11,12...|       0.0|\n",
            "|(13,[0,1,7,10,11,...|       0.0|\n",
            "|(13,[0,1,5,6,7,10...|       1.0|\n",
            "|(13,[0,1,5,7,10,1...|       1.0|\n",
            "|(13,[0,3,5,7,10,1...|       0.0|\n",
            "|(13,[4,7,10,11,12...|       0.0|\n",
            "|(13,[4,7,10,11,12...|       0.0|\n",
            "|(13,[3,7,10,11],[...|       0.0|\n",
            "|(13,[4,7,10,11,12...|       0.0|\n",
            "|(13,[0,2,5,7,10,1...|       1.0|\n",
            "|(13,[1,7,10,11],[...|       0.0|\n",
            "|(13,[0,1,5,6,7,10...|       0.0|\n",
            "|(13,[4,6,7,10,11,...|       0.0|\n",
            "|(13,[1,5,7,10,11]...|       0.0|\n",
            "|(13,[0,1,7,10,11,...|       1.0|\n",
            "|(13,[0,1,7,10,11]...|       0.0|\n",
            "|[1.0,0.0,1.0,0.0,...|       0.0|\n",
            "|(13,[0,2,5,7,10,1...|       0.0|\n",
            "|(13,[0,1,7,8,10,1...|       1.0|\n",
            "+--------------------+----------+\n",
            "only showing top 20 rows\n",
            "\n"
          ]
        }
      ]
    },
    {
      "cell_type": "code",
      "source": [
        "pred_W.select('stroke','prediction').filter(pred_W['stroke'] == 1).show()"
      ],
      "metadata": {
        "colab": {
          "base_uri": "https://localhost:8080/"
        },
        "id": "j1SnjhrxHYKp",
        "outputId": "43449ff6-caaf-4d98-9800-8a42cefb4fd9"
      },
      "id": "j1SnjhrxHYKp",
      "execution_count": 138,
      "outputs": [
        {
          "output_type": "stream",
          "name": "stdout",
          "text": [
            "+------+----------+\n",
            "|stroke|prediction|\n",
            "+------+----------+\n",
            "|     1|       1.0|\n",
            "|     1|       1.0|\n",
            "|     1|       1.0|\n",
            "|     1|       1.0|\n",
            "|     1|       1.0|\n",
            "|     1|       1.0|\n",
            "|     1|       1.0|\n",
            "|     1|       1.0|\n",
            "|     1|       1.0|\n",
            "|     1|       1.0|\n",
            "|     1|       1.0|\n",
            "|     1|       1.0|\n",
            "|     1|       1.0|\n",
            "|     1|       1.0|\n",
            "|     1|       1.0|\n",
            "|     1|       1.0|\n",
            "|     1|       1.0|\n",
            "|     1|       1.0|\n",
            "|     1|       1.0|\n",
            "|     1|       1.0|\n",
            "+------+----------+\n",
            "only showing top 20 rows\n",
            "\n"
          ]
        }
      ]
    },
    {
      "cell_type": "code",
      "source": [
        "pred_W.filter(pred_W['stroke'] == 0).count()"
      ],
      "metadata": {
        "colab": {
          "base_uri": "https://localhost:8080/"
        },
        "id": "tofhvuJAHeEQ",
        "outputId": "3e80d5c8-dc0a-4571-f8f1-9bd51795041e"
      },
      "id": "tofhvuJAHeEQ",
      "execution_count": 139,
      "outputs": [
        {
          "output_type": "execute_result",
          "data": {
            "text/plain": [
              "881"
            ]
          },
          "metadata": {},
          "execution_count": 139
        }
      ]
    },
    {
      "cell_type": "code",
      "source": [
        "pred_W.filter(pred_W['prediction'] == 0).count()"
      ],
      "metadata": {
        "colab": {
          "base_uri": "https://localhost:8080/"
        },
        "id": "y2ip53sfHhtf",
        "outputId": "b52babf6-1e45-4195-f727-ba9d69474778"
      },
      "id": "y2ip53sfHhtf",
      "execution_count": 140,
      "outputs": [
        {
          "output_type": "execute_result",
          "data": {
            "text/plain": [
              "647"
            ]
          },
          "metadata": {},
          "execution_count": 140
        }
      ]
    },
    {
      "cell_type": "code",
      "source": [
        "pred_W.filter(pred_W['stroke'] == 1).count()"
      ],
      "metadata": {
        "colab": {
          "base_uri": "https://localhost:8080/"
        },
        "id": "0xQXtcRfHhmD",
        "outputId": "c306c862-a2dd-49e7-ef97-4db0e0a38d8c"
      },
      "id": "0xQXtcRfHhmD",
      "execution_count": 141,
      "outputs": [
        {
          "output_type": "execute_result",
          "data": {
            "text/plain": [
              "37"
            ]
          },
          "metadata": {},
          "execution_count": 141
        }
      ]
    },
    {
      "cell_type": "code",
      "source": [
        "pred_W.filter(pred_W['prediction'] == 1).count()"
      ],
      "metadata": {
        "colab": {
          "base_uri": "https://localhost:8080/"
        },
        "id": "aIh31rrqHhcy",
        "outputId": "8029253c-a903-4dbc-d5c5-4ad1e9ad799a"
      },
      "id": "aIh31rrqHhcy",
      "execution_count": 142,
      "outputs": [
        {
          "output_type": "execute_result",
          "data": {
            "text/plain": [
              "271"
            ]
          },
          "metadata": {},
          "execution_count": 142
        }
      ]
    },
    {
      "cell_type": "code",
      "source": [
        "evaluatorROC.evaluate(pred_W)"
      ],
      "metadata": {
        "colab": {
          "base_uri": "https://localhost:8080/"
        },
        "id": "DLay2tkAHpOj",
        "outputId": "53a90433-8bff-4a0a-bc64-267474c65ae7"
      },
      "id": "DLay2tkAHpOj",
      "execution_count": 143,
      "outputs": [
        {
          "output_type": "execute_result",
          "data": {
            "text/plain": [
              "0.8249532165536706"
            ]
          },
          "metadata": {},
          "execution_count": 143
        }
      ]
    },
    {
      "cell_type": "markdown",
      "metadata": {
        "id": "e00e7b53"
      },
      "source": [
        "# GOOD LUCK\n",
        "<b><font color='GREEN'>AI-PRO Spark Team ITI</font></b>"
      ],
      "id": "e00e7b53"
    },
    {
      "cell_type": "markdown",
      "source": [
        "# ![image-3.png](attachment:image-3.png)"
      ],
      "metadata": {
        "id": "Pf7Qh-ftIp2f"
      },
      "id": "Pf7Qh-ftIp2f"
    }
  ]
}