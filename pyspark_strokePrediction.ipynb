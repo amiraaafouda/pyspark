{
  "cells": [
    {
      "cell_type": "markdown",
      "id": "0eb78c16",
      "metadata": {
        "id": "0eb78c16"
      },
      "source": [
        "### Data:\n",
        "- Data is provided in csv format in a file named <b>healthcare-dataset-stroke-data.csv</b>"
      ]
    },
    {
      "cell_type": "markdown",
      "id": "7c842b79",
      "metadata": {
        "id": "7c842b79"
      },
      "source": [
        "### Column names and data types are as follow:\n",
        "- id, integer.\n",
        "- gender, string.\n",
        "- age, double.\n",
        "- hypertension, integer.\n",
        "- heart_disease, integer.\n",
        "- ever_married, string.\n",
        "- work_type, string.\n",
        "- Residence_type, string.\n",
        "- avg_glucose_level, double.\n",
        "- bmi, double.\n",
        "- smoking_status, string.\n",
        "- stroke, integer <b>(Target Label)</b>.\n",
        "If the person has stroke the stroke label value is <b>\"1\"</b> otherwise <b>\"0\"</b>."
      ]
    },
    {
      "cell_type": "markdown",
      "id": "6971f788",
      "metadata": {
        "id": "6971f788"
      },
      "source": [
        "## To perform this task follow the following guiding steps:"
      ]
    },
    {
      "cell_type": "markdown",
      "id": "e31bc851",
      "metadata": {
        "id": "e31bc851"
      },
      "source": [
        "### Create a spark session and import the required libraries"
      ]
    },
    {
      "cell_type": "code",
      "execution_count": 246,
      "id": "ab3ba311",
      "metadata": {
        "colab": {
          "base_uri": "https://localhost:8080/",
          "height": 69
        },
        "id": "ab3ba311",
        "outputId": "8c6e28c3-daf5-4e0b-bfd4-9d9b5574fa5b"
      },
      "outputs": [
        {
          "name": "stdout",
          "output_type": "stream",
          "text": [
            "Looking in indexes: https://pypi.org/simple, https://us-python.pkg.dev/colab-wheels/public/simple/\n",
            "Requirement already satisfied: pyspark in /usr/local/lib/python3.7/dist-packages (3.3.0)\n",
            "Requirement already satisfied: py4j==0.10.9.5 in /usr/local/lib/python3.7/dist-packages (from pyspark) (0.10.9.5)\n"
          ]
        },
        {
          "data": {
            "text/html": [
              "<style>pre { white-space: pre !important; }</style>"
            ],
            "text/plain": [
              "<IPython.core.display.HTML object>"
            ]
          },
          "metadata": {},
          "output_type": "display_data"
        }
      ],
      "source": [
        "!pip install pyspark\n",
        "from pyspark.sql import SparkSession\n",
        "spark = SparkSession.builder.getOrCreate()\n",
        "from IPython.display import display, HTML\n",
        "display(HTML(\"<style>pre { white-space: pre !important; }</style>\"))"
      ]
    },
    {
      "cell_type": "markdown",
      "id": "843b8468",
      "metadata": {
        "id": "843b8468"
      },
      "source": [
        "### Create a data schema programatically"
      ]
    },
    {
      "cell_type": "code",
      "execution_count": 247,
      "id": "8616fe16",
      "metadata": {
        "id": "8616fe16"
      },
      "outputs": [],
      "source": [
        "sampleDF = spark.read.csv('/content/healthcare-dataset-stroke-data.csv',inferSchema=True,samplingRatio=0.001,header=True)"
      ]
    },
    {
      "cell_type": "code",
      "execution_count": 248,
      "id": "3MAimdx0dBZO",
      "metadata": {
        "colab": {
          "base_uri": "https://localhost:8080/"
        },
        "id": "3MAimdx0dBZO",
        "outputId": "c3514e72-31e5-43f6-9956-c64a24e5a2d7"
      },
      "outputs": [
        {
          "name": "stdout",
          "output_type": "stream",
          "text": [
            "root\n",
            " |-- id: integer (nullable = true)\n",
            " |-- gender: string (nullable = true)\n",
            " |-- age: double (nullable = true)\n",
            " |-- hypertension: integer (nullable = true)\n",
            " |-- heart_disease: integer (nullable = true)\n",
            " |-- ever_married: string (nullable = true)\n",
            " |-- work_type: string (nullable = true)\n",
            " |-- Residence_type: string (nullable = true)\n",
            " |-- avg_glucose_level: double (nullable = true)\n",
            " |-- bmi: double (nullable = true)\n",
            " |-- smoking_status: string (nullable = true)\n",
            " |-- stroke: integer (nullable = true)\n",
            "\n"
          ]
        }
      ],
      "source": [
        "sampleDF.printSchema()"
      ]
    },
    {
      "cell_type": "code",
      "execution_count": 249,
      "id": "4iCvkEBndb_E",
      "metadata": {
        "colab": {
          "base_uri": "https://localhost:8080/"
        },
        "id": "4iCvkEBndb_E",
        "outputId": "b641d5ee-2f6e-4098-fcc7-43f03b0cd1a4"
      },
      "outputs": [
        {
          "data": {
            "text/plain": [
              "StructType([StructField('id', IntegerType(), True), StructField('gender', StringType(), True), StructField('age', DoubleType(), True), StructField('hypertension', IntegerType(), True), StructField('heart_disease', IntegerType(), True), StructField('ever_married', StringType(), True), StructField('work_type', StringType(), True), StructField('Residence_type', StringType(), True), StructField('avg_glucose_level', DoubleType(), True), StructField('bmi', DoubleType(), True), StructField('smoking_status', StringType(), True), StructField('stroke', IntegerType(), True)])"
            ]
          },
          "execution_count": 249,
          "metadata": {},
          "output_type": "execute_result"
        }
      ],
      "source": [
        "myschema = sampleDF.schema\n",
        "myschema"
      ]
    },
    {
      "cell_type": "markdown",
      "id": "2d00718f",
      "metadata": {
        "id": "2d00718f"
      },
      "source": [
        "### Read the data using the standard DataReader (Key,Value) pairs format\n",
        "- Provide the schema and any other required options."
      ]
    },
    {
      "cell_type": "code",
      "execution_count": 250,
      "id": "61fcc4cd",
      "metadata": {
        "id": "61fcc4cd"
      },
      "outputs": [],
      "source": [
        "df = spark.read.csv('/content/healthcare-dataset-stroke-data.csv',header=True,schema=myschema)"
      ]
    },
    {
      "cell_type": "markdown",
      "id": "974bc193",
      "metadata": {
        "id": "974bc193"
      },
      "source": [
        "### Explore the data \n",
        "#### You have to do the following:\n",
        "- Print the Schema.\n",
        "- Show the first 10 rows from the data.\n",
        "- Explore null values and show how many null values in each column.\n",
        "- Plot a count plot for the target label and <b>notice the graph</b>.\n",
        "- Perform any additional EDA you find useful."
      ]
    },
    {
      "cell_type": "code",
      "execution_count": 251,
      "id": "353b6f34",
      "metadata": {
        "colab": {
          "base_uri": "https://localhost:8080/"
        },
        "id": "353b6f34",
        "outputId": "1ec3540b-7461-4841-8382-20f09de4a722"
      },
      "outputs": [
        {
          "name": "stdout",
          "output_type": "stream",
          "text": [
            "root\n",
            " |-- id: integer (nullable = true)\n",
            " |-- gender: string (nullable = true)\n",
            " |-- age: double (nullable = true)\n",
            " |-- hypertension: integer (nullable = true)\n",
            " |-- heart_disease: integer (nullable = true)\n",
            " |-- ever_married: string (nullable = true)\n",
            " |-- work_type: string (nullable = true)\n",
            " |-- Residence_type: string (nullable = true)\n",
            " |-- avg_glucose_level: double (nullable = true)\n",
            " |-- bmi: double (nullable = true)\n",
            " |-- smoking_status: string (nullable = true)\n",
            " |-- stroke: integer (nullable = true)\n",
            "\n"
          ]
        }
      ],
      "source": [
        "df.printSchema()"
      ]
    },
    {
      "cell_type": "code",
      "execution_count": 252,
      "id": "6fb198f0",
      "metadata": {
        "colab": {
          "base_uri": "https://localhost:8080/"
        },
        "id": "6fb198f0",
        "outputId": "3eff38d6-e7a2-411e-9610-472865052fc1"
      },
      "outputs": [
        {
          "name": "stdout",
          "output_type": "stream",
          "text": [
            "+-----+------+----+------------+-------------+------------+-------------+--------------+-----------------+----+---------------+------+\n",
            "|id   |gender|age |hypertension|heart_disease|ever_married|work_type    |Residence_type|avg_glucose_level|bmi |smoking_status |stroke|\n",
            "+-----+------+----+------------+-------------+------------+-------------+--------------+-----------------+----+---------------+------+\n",
            "|9046 |Male  |67.0|0           |1            |Yes         |Private      |Urban         |228.69           |36.6|formerly smoked|1     |\n",
            "|51676|Female|61.0|0           |0            |Yes         |Self-employed|Rural         |202.21           |null|never smoked   |1     |\n",
            "|31112|Male  |80.0|0           |1            |Yes         |Private      |Rural         |105.92           |32.5|never smoked   |1     |\n",
            "|60182|Female|49.0|0           |0            |Yes         |Private      |Urban         |171.23           |34.4|smokes         |1     |\n",
            "|1665 |Female|79.0|1           |0            |Yes         |Self-employed|Rural         |174.12           |24.0|never smoked   |1     |\n",
            "|56669|Male  |81.0|0           |0            |Yes         |Private      |Urban         |186.21           |29.0|formerly smoked|1     |\n",
            "|53882|Male  |74.0|1           |1            |Yes         |Private      |Rural         |70.09            |27.4|never smoked   |1     |\n",
            "|10434|Female|69.0|0           |0            |No          |Private      |Urban         |94.39            |22.8|never smoked   |1     |\n",
            "|27419|Female|59.0|0           |0            |Yes         |Private      |Rural         |76.15            |null|Unknown        |1     |\n",
            "|60491|Female|78.0|0           |0            |Yes         |Private      |Urban         |58.57            |24.2|Unknown        |1     |\n",
            "+-----+------+----+------------+-------------+------------+-------------+--------------+-----------------+----+---------------+------+\n",
            "only showing top 10 rows\n",
            "\n"
          ]
        }
      ],
      "source": [
        "df.show(10,truncate=False)"
      ]
    },
    {
      "cell_type": "code",
      "execution_count": 253,
      "id": "QpkbvQWEeaK3",
      "metadata": {
        "id": "QpkbvQWEeaK3"
      },
      "outputs": [],
      "source": [
        "import pyspark.sql.functions as fn\n",
        "from pyspark.sql.functions import *"
      ]
    },
    {
      "cell_type": "code",
      "execution_count": 254,
      "id": "_d-IW2b2eTGA",
      "metadata": {
        "colab": {
          "base_uri": "https://localhost:8080/"
        },
        "id": "_d-IW2b2eTGA",
        "outputId": "5521f0a4-1515-4a47-e1e7-c3d8a46bb1c1"
      },
      "outputs": [
        {
          "name": "stdout",
          "output_type": "stream",
          "text": [
            "+---+------+---+------------+-------------+------------+---------+--------------+-----------------+---+--------------+------+\n",
            "| id|gender|age|hypertension|heart_disease|ever_married|work_type|Residence_type|avg_glucose_level|bmi|smoking_status|stroke|\n",
            "+---+------+---+------------+-------------+------------+---------+--------------+-----------------+---+--------------+------+\n",
            "|  0|     0|  0|           0|            0|           0|        0|             0|                0|201|             0|     0|\n",
            "+---+------+---+------------+-------------+------------+---------+--------------+-----------------+---+--------------+------+\n",
            "\n"
          ]
        }
      ],
      "source": [
        "df.select([count(when(isnan(c) | col(c).isNull(), c)).alias(c) for c in df.columns]\n",
        "   ).show()"
      ]
    },
    {
      "cell_type": "code",
      "execution_count": 255,
      "id": "dYMU-HNsfHDZ",
      "metadata": {
        "id": "dYMU-HNsfHDZ"
      },
      "outputs": [],
      "source": [
        "new_df=df.toPandas()"
      ]
    },
    {
      "cell_type": "code",
      "execution_count": 256,
      "id": "sbnPTcmnfTOg",
      "metadata": {
        "colab": {
          "base_uri": "https://localhost:8080/"
        },
        "id": "sbnPTcmnfTOg",
        "outputId": "72234a78-4294-4413-9946-12471f760857"
      },
      "outputs": [
        {
          "data": {
            "text/plain": [
              "0    4861\n",
              "1     249\n",
              "Name: stroke, dtype: int64"
            ]
          },
          "execution_count": 256,
          "metadata": {},
          "output_type": "execute_result"
        }
      ],
      "source": [
        "new_df[\"stroke\"].value_counts()"
      ]
    },
    {
      "cell_type": "code",
      "execution_count": 257,
      "id": "sjI9AFXPepAQ",
      "metadata": {
        "colab": {
          "base_uri": "https://localhost:8080/",
          "height": 334
        },
        "id": "sjI9AFXPepAQ",
        "outputId": "b0845fbe-98da-4872-dc2c-3ce0ed333f8f"
      },
      "outputs": [
        {
          "name": "stderr",
          "output_type": "stream",
          "text": [
            "/usr/local/lib/python3.7/dist-packages/seaborn/_decorators.py:43: FutureWarning: Pass the following variable as a keyword arg: x. From version 0.12, the only valid positional argument will be `data`, and passing other arguments without an explicit keyword will result in an error or misinterpretation.\n",
            "  FutureWarning\n"
          ]
        },
        {
          "data": {
            "image/png": "[encoded data removed]",
            "text/plain": [
              "<Figure size 432x288 with 1 Axes>"
            ]
          },
          "metadata": {
            "needs_background": "light"
          },
          "output_type": "display_data"
        }
      ],
      "source": [
        "import seaborn as sns\n",
        "ax = sns.barplot([0,1], y= [new_df[\"stroke\"].value_counts()[0], new_df[\"stroke\"].value_counts()[1]])\n",
        "ax.set(xlabel=\"Stroke\", ylabel = \"Count\");"
      ]
    },
    {
      "cell_type": "markdown",
      "id": "59b770cb",
      "metadata": {
        "id": "59b770cb"
      },
      "source": [
        "### Get the summary statistics of the age column\n",
        "- You will find the minimum age is about <b>0.08</b>.\n",
        "- Remove rows for the age below <b>2 years old</b>."
      ]
    },
    {
      "cell_type": "code",
      "execution_count": 258,
      "id": "MNEbopjLf9Tp",
      "metadata": {
        "colab": {
          "base_uri": "https://localhost:8080/"
        },
        "id": "MNEbopjLf9Tp",
        "outputId": "08ba5c8a-1f0d-40ff-c1c3-3092bdf0992e"
      },
      "outputs": [
        {
          "name": "stdout",
          "output_type": "stream",
          "text": [
            "+-------+------------------+\n",
            "|summary|               age|\n",
            "+-------+------------------+\n",
            "|  count|              5110|\n",
            "|   mean|43.226614481409015|\n",
            "| stddev| 22.61264672311348|\n",
            "|    min|              0.08|\n",
            "|    25%|              25.0|\n",
            "|    50%|              45.0|\n",
            "|    75%|              61.0|\n",
            "|    max|              82.0|\n",
            "+-------+------------------+\n",
            "\n"
          ]
        }
      ],
      "source": [
        "df.select(['age']).summary().show()"
      ]
    },
    {
      "cell_type": "code",
      "execution_count": 259,
      "id": "SD56z6pef-r-",
      "metadata": {
        "id": "SD56z6pef-r-"
      },
      "outputs": [],
      "source": [
        "df2 = df.filter(df['age'] >= 2)"
      ]
    },
    {
      "cell_type": "code",
      "execution_count": 260,
      "id": "cA6hqkWdgRmA",
      "metadata": {
        "colab": {
          "base_uri": "https://localhost:8080/"
        },
        "id": "cA6hqkWdgRmA",
        "outputId": "f79fcc6c-9f73-4199-f697-1c6adb695cb1"
      },
      "outputs": [
        {
          "name": "stdout",
          "output_type": "stream",
          "text": [
            "+-----+------+----+------------+-------------+------------+-------------+--------------+-----------------+----+---------------+------+\n",
            "|   id|gender| age|hypertension|heart_disease|ever_married|    work_type|Residence_type|avg_glucose_level| bmi| smoking_status|stroke|\n",
            "+-----+------+----+------------+-------------+------------+-------------+--------------+-----------------+----+---------------+------+\n",
            "| 9046|  Male|67.0|           0|            1|         Yes|      Private|         Urban|           228.69|36.6|formerly smoked|     1|\n",
            "|51676|Female|61.0|           0|            0|         Yes|Self-employed|         Rural|           202.21|null|   never smoked|     1|\n",
            "|31112|  Male|80.0|           0|            1|         Yes|      Private|         Rural|           105.92|32.5|   never smoked|     1|\n",
            "|60182|Female|49.0|           0|            0|         Yes|      Private|         Urban|           171.23|34.4|         smokes|     1|\n",
            "| 1665|Female|79.0|           1|            0|         Yes|Self-employed|         Rural|           174.12|24.0|   never smoked|     1|\n",
            "|56669|  Male|81.0|           0|            0|         Yes|      Private|         Urban|           186.21|29.0|formerly smoked|     1|\n",
            "|53882|  Male|74.0|           1|            1|         Yes|      Private|         Rural|            70.09|27.4|   never smoked|     1|\n",
            "|10434|Female|69.0|           0|            0|          No|      Private|         Urban|            94.39|22.8|   never smoked|     1|\n",
            "|27419|Female|59.0|           0|            0|         Yes|      Private|         Rural|            76.15|null|        Unknown|     1|\n",
            "|60491|Female|78.0|           0|            0|         Yes|      Private|         Urban|            58.57|24.2|        Unknown|     1|\n",
            "|12109|Female|81.0|           1|            0|         Yes|      Private|         Rural|            80.43|29.7|   never smoked|     1|\n",
            "|12095|Female|61.0|           0|            1|         Yes|     Govt_job|         Rural|           120.46|36.8|         smokes|     1|\n",
            "|12175|Female|54.0|           0|            0|         Yes|      Private|         Urban|           104.51|27.3|         smokes|     1|\n",
            "| 8213|  Male|78.0|           0|            1|         Yes|      Private|         Urban|           219.84|null|        Unknown|     1|\n",
            "| 5317|Female|79.0|           0|            1|         Yes|      Private|         Urban|           214.09|28.2|   never smoked|     1|\n",
            "|58202|Female|50.0|           1|            0|         Yes|Self-employed|         Rural|           167.41|30.9|   never smoked|     1|\n",
            "|56112|  Male|64.0|           0|            1|         Yes|      Private|         Urban|           191.61|37.5|         smokes|     1|\n",
            "|34120|  Male|75.0|           1|            0|         Yes|      Private|         Urban|           221.29|25.8|         smokes|     1|\n",
            "|27458|Female|60.0|           0|            0|          No|      Private|         Urban|            89.22|37.8|   never smoked|     1|\n",
            "|25226|  Male|57.0|           0|            1|          No|     Govt_job|         Urban|           217.08|null|        Unknown|     1|\n",
            "+-----+------+----+------------+-------------+------------+-------------+--------------+-----------------+----+---------------+------+\n",
            "only showing top 20 rows\n",
            "\n"
          ]
        }
      ],
      "source": [
        "df2.show()"
      ]
    },
    {
      "cell_type": "markdown",
      "id": "bf8c9498",
      "metadata": {
        "id": "bf8c9498"
      },
      "source": [
        "### Working with gender & smoking_status columns:\n",
        "- Select and show the gender & smoking_status columns\n",
        "- Get the distinct values for each column."
      ]
    },
    {
      "cell_type": "code",
      "execution_count": 261,
      "id": "6CCgV4CMgib6",
      "metadata": {
        "colab": {
          "base_uri": "https://localhost:8080/"
        },
        "id": "6CCgV4CMgib6",
        "outputId": "c8125a4b-afac-4e2f-b3fd-1375335f7278"
      },
      "outputs": [
        {
          "name": "stdout",
          "output_type": "stream",
          "text": [
            "+------+---------------+\n",
            "|gender| smoking_status|\n",
            "+------+---------------+\n",
            "|  Male|formerly smoked|\n",
            "|Female|   never smoked|\n",
            "|  Male|   never smoked|\n",
            "|Female|         smokes|\n",
            "|Female|   never smoked|\n",
            "|  Male|formerly smoked|\n",
            "|  Male|   never smoked|\n",
            "|Female|   never smoked|\n",
            "|Female|        Unknown|\n",
            "|Female|        Unknown|\n",
            "|Female|   never smoked|\n",
            "|Female|         smokes|\n",
            "|Female|         smokes|\n",
            "|  Male|        Unknown|\n",
            "|Female|   never smoked|\n",
            "|Female|   never smoked|\n",
            "|  Male|         smokes|\n",
            "|  Male|         smokes|\n",
            "|Female|   never smoked|\n",
            "|  Male|        Unknown|\n",
            "+------+---------------+\n",
            "only showing top 20 rows\n",
            "\n"
          ]
        }
      ],
      "source": [
        "df2.select(['gender','smoking_status']).show()"
      ]
    },
    {
      "cell_type": "code",
      "execution_count": 262,
      "id": "xOBqXWNXg06Z",
      "metadata": {
        "colab": {
          "base_uri": "https://localhost:8080/"
        },
        "id": "xOBqXWNXg06Z",
        "outputId": "813830b2-68bc-4488-a57d-a143b2d4d8c8"
      },
      "outputs": [
        {
          "name": "stdout",
          "output_type": "stream",
          "text": [
            "+------+\n",
            "|gender|\n",
            "+------+\n",
            "|Female|\n",
            "| Other|\n",
            "|  Male|\n",
            "+------+\n",
            "\n"
          ]
        }
      ],
      "source": [
        "df2.select('gender').distinct().show()"
      ]
    },
    {
      "cell_type": "code",
      "execution_count": 263,
      "id": "OdvQB_Sug3dj",
      "metadata": {
        "colab": {
          "base_uri": "https://localhost:8080/"
        },
        "id": "OdvQB_Sug3dj",
        "outputId": "e893079c-c468-4dbd-f68b-29e698cfb4ef"
      },
      "outputs": [
        {
          "name": "stdout",
          "output_type": "stream",
          "text": [
            "+---------------+\n",
            "| smoking_status|\n",
            "+---------------+\n",
            "|         smokes|\n",
            "|        Unknown|\n",
            "|   never smoked|\n",
            "|formerly smoked|\n",
            "+---------------+\n",
            "\n"
          ]
        }
      ],
      "source": [
        "df2.select('smoking_status').distinct().show()"
      ]
    },
    {
      "cell_type": "markdown",
      "id": "850bdfe1",
      "metadata": {
        "id": "850bdfe1"
      },
      "source": [
        "#### Change the string values of the columns into numerical values as follow:\n",
        "1. Gender column:\n",
        "    * Male = 1 \n",
        "    * Female = 0 \n",
        "    * Other = 0 \n",
        "2. Smoking Status column:\n",
        "  * never smoked = 0\n",
        "  * Unknown = 0.5\n",
        "  * formerly smoked = 0.75\n",
        "  * smokes = 1.0\n"
      ]
    },
    {
      "cell_type": "code",
      "execution_count": 264,
      "id": "EKaRDfp3i7B0",
      "metadata": {
        "id": "EKaRDfp3i7B0"
      },
      "outputs": [],
      "source": [
        "df3 = df2.withColumn(\"gender\", when(df2.gender == \"Male\",1) \\\n",
        "      .when(df2.gender == \"Female\",0) \\\n",
        "      .otherwise(0))"
      ]
    },
    {
      "cell_type": "code",
      "execution_count": 265,
      "id": "xeY0Z5mEjG5g",
      "metadata": {
        "id": "xeY0Z5mEjG5g"
      },
      "outputs": [],
      "source": [
        "df3 =df3.withColumn(\"smoking_status\", when(df3.smoking_status == 'never smoked', 0) \\\n",
        "      .when(df3.smoking_status == 'Unknown' , 0.5) \\\n",
        "      .when(df3.smoking_status == 'formerly smoked', 0.75)\\\n",
        "      .otherwise(1))"
      ]
    },
    {
      "cell_type": "markdown",
      "id": "3da38a31",
      "metadata": {
        "id": "3da38a31"
      },
      "source": [
        "#### Show the output DataFrame\n",
        "- Select and show the gender & smoking_status columns after value changing.\n",
        "- Print schema for the new dataframe."
      ]
    },
    {
      "cell_type": "code",
      "execution_count": 266,
      "id": "8afl2Gh5hJOH",
      "metadata": {
        "colab": {
          "base_uri": "https://localhost:8080/"
        },
        "id": "8afl2Gh5hJOH",
        "outputId": "d7843457-5ace-40a8-e8b6-dc03e69dfdaa"
      },
      "outputs": [
        {
          "name": "stdout",
          "output_type": "stream",
          "text": [
            "+------+--------------+\n",
            "|gender|smoking_status|\n",
            "+------+--------------+\n",
            "|     1|          0.75|\n",
            "|     0|           0.0|\n",
            "|     1|           0.0|\n",
            "|     0|           1.0|\n",
            "|     0|           0.0|\n",
            "|     1|          0.75|\n",
            "|     1|           0.0|\n",
            "|     0|           0.0|\n",
            "|     0|           0.5|\n",
            "|     0|           0.5|\n",
            "|     0|           0.0|\n",
            "|     0|           1.0|\n",
            "|     0|           1.0|\n",
            "|     1|           0.5|\n",
            "|     0|           0.0|\n",
            "|     0|           0.0|\n",
            "|     1|           1.0|\n",
            "|     1|           1.0|\n",
            "|     0|           0.0|\n",
            "|     1|           0.5|\n",
            "+------+--------------+\n",
            "only showing top 20 rows\n",
            "\n"
          ]
        }
      ],
      "source": [
        "df3.select(['gender','smoking_status']).show()"
      ]
    },
    {
      "cell_type": "code",
      "execution_count": 267,
      "id": "_ZDZagd3kmgC",
      "metadata": {
        "colab": {
          "base_uri": "https://localhost:8080/"
        },
        "id": "_ZDZagd3kmgC",
        "outputId": "6e14f29d-b73c-4ef1-f1f9-8d822e72f978"
      },
      "outputs": [
        {
          "name": "stdout",
          "output_type": "stream",
          "text": [
            "root\n",
            " |-- id: integer (nullable = true)\n",
            " |-- gender: integer (nullable = false)\n",
            " |-- age: double (nullable = true)\n",
            " |-- hypertension: integer (nullable = true)\n",
            " |-- heart_disease: integer (nullable = true)\n",
            " |-- ever_married: string (nullable = true)\n",
            " |-- work_type: string (nullable = true)\n",
            " |-- Residence_type: string (nullable = true)\n",
            " |-- avg_glucose_level: double (nullable = true)\n",
            " |-- bmi: double (nullable = true)\n",
            " |-- smoking_status: double (nullable = false)\n",
            " |-- stroke: integer (nullable = true)\n",
            "\n"
          ]
        }
      ],
      "source": [
        "df3.printSchema()"
      ]
    },
    {
      "cell_type": "markdown",
      "id": "89ce3b77",
      "metadata": {
        "id": "89ce3b77"
      },
      "source": [
        "### Deal with null value according to your data analysis."
      ]
    },
    {
      "cell_type": "code",
      "execution_count": 268,
      "id": "4d78cb87",
      "metadata": {
        "id": "4d78cb87"
      },
      "outputs": [],
      "source": [
        "df4=df3.dropna()"
      ]
    },
    {
      "cell_type": "code",
      "execution_count": 269,
      "id": "6zoO_cixl4o8",
      "metadata": {
        "colab": {
          "base_uri": "https://localhost:8080/"
        },
        "id": "6zoO_cixl4o8",
        "outputId": "e6baf629-bea8-4b23-a710-d7aa12bf0387"
      },
      "outputs": [
        {
          "name": "stdout",
          "output_type": "stream",
          "text": [
            "+---+------+---+------------+-------------+------------+---------+--------------+-----------------+---+--------------+------+\n",
            "| id|gender|age|hypertension|heart_disease|ever_married|work_type|Residence_type|avg_glucose_level|bmi|smoking_status|stroke|\n",
            "+---+------+---+------------+-------------+------------+---------+--------------+-----------------+---+--------------+------+\n",
            "|  0|     0|  0|           0|            0|           0|        0|             0|                0|  0|             0|     0|\n",
            "+---+------+---+------------+-------------+------------+---------+--------------+-----------------+---+--------------+------+\n",
            "\n"
          ]
        }
      ],
      "source": [
        "df4.select([count(when(isnan(c) | col(c).isNull(), c)).alias(c) for c in df.columns]\n",
        "   ).show()"
      ]
    },
    {
      "cell_type": "code",
      "execution_count": 270,
      "id": "gyLUc1JjmDxO",
      "metadata": {
        "colab": {
          "base_uri": "https://localhost:8080/"
        },
        "id": "gyLUc1JjmDxO",
        "outputId": "31c24da5-7154-43d9-b625-ff481ed73a2a"
      },
      "outputs": [
        {
          "name": "stdout",
          "output_type": "stream",
          "text": [
            "+-----+------+----+------------+-------------+------------+-------------+--------------+-----------------+----+--------------+------+\n",
            "|   id|gender| age|hypertension|heart_disease|ever_married|    work_type|Residence_type|avg_glucose_level| bmi|smoking_status|stroke|\n",
            "+-----+------+----+------------+-------------+------------+-------------+--------------+-----------------+----+--------------+------+\n",
            "| 9046|     1|67.0|           0|            1|         Yes|      Private|         Urban|           228.69|36.6|          0.75|     1|\n",
            "|31112|     1|80.0|           0|            1|         Yes|      Private|         Rural|           105.92|32.5|           0.0|     1|\n",
            "|60182|     0|49.0|           0|            0|         Yes|      Private|         Urban|           171.23|34.4|           1.0|     1|\n",
            "| 1665|     0|79.0|           1|            0|         Yes|Self-employed|         Rural|           174.12|24.0|           0.0|     1|\n",
            "|56669|     1|81.0|           0|            0|         Yes|      Private|         Urban|           186.21|29.0|          0.75|     1|\n",
            "|53882|     1|74.0|           1|            1|         Yes|      Private|         Rural|            70.09|27.4|           0.0|     1|\n",
            "|10434|     0|69.0|           0|            0|          No|      Private|         Urban|            94.39|22.8|           0.0|     1|\n",
            "|60491|     0|78.0|           0|            0|         Yes|      Private|         Urban|            58.57|24.2|           0.5|     1|\n",
            "|12109|     0|81.0|           1|            0|         Yes|      Private|         Rural|            80.43|29.7|           0.0|     1|\n",
            "|12095|     0|61.0|           0|            1|         Yes|     Govt_job|         Rural|           120.46|36.8|           1.0|     1|\n",
            "|12175|     0|54.0|           0|            0|         Yes|      Private|         Urban|           104.51|27.3|           1.0|     1|\n",
            "| 5317|     0|79.0|           0|            1|         Yes|      Private|         Urban|           214.09|28.2|           0.0|     1|\n",
            "|58202|     0|50.0|           1|            0|         Yes|Self-employed|         Rural|           167.41|30.9|           0.0|     1|\n",
            "|56112|     1|64.0|           0|            1|         Yes|      Private|         Urban|           191.61|37.5|           1.0|     1|\n",
            "|34120|     1|75.0|           1|            0|         Yes|      Private|         Urban|           221.29|25.8|           1.0|     1|\n",
            "|27458|     0|60.0|           0|            0|          No|      Private|         Urban|            89.22|37.8|           0.0|     1|\n",
            "|70630|     0|71.0|           0|            0|         Yes|     Govt_job|         Rural|           193.94|22.4|           1.0|     1|\n",
            "|13861|     0|52.0|           1|            0|         Yes|Self-employed|         Urban|           233.29|48.9|           0.0|     1|\n",
            "|68794|     0|79.0|           0|            0|         Yes|Self-employed|         Urban|            228.7|26.6|           0.0|     1|\n",
            "|64778|     1|82.0|           0|            1|         Yes|      Private|         Rural|            208.3|32.5|           0.5|     1|\n",
            "+-----+------+----+------------+-------------+------------+-------------+--------------+-----------------+----+--------------+------+\n",
            "only showing top 20 rows\n",
            "\n"
          ]
        }
      ],
      "source": [
        "df4.show()"
      ]
    },
    {
      "cell_type": "markdown",
      "id": "053c429a",
      "metadata": {
        "id": "053c429a"
      },
      "source": [
        "### Split the data into training and test dataframes:\n",
        "- 80% training and 20% test.\n",
        "- seed = 42.\n",
        "- Save each dataframe as a parquet file"
      ]
    },
    {
      "cell_type": "code",
      "execution_count": 271,
      "id": "0236ea8b",
      "metadata": {
        "id": "0236ea8b"
      },
      "outputs": [],
      "source": [
        "trainDF, testDF = df4.randomSplit([0.8, 0.2], seed=42)\n"
      ]
    },
    {
      "cell_type": "code",
      "execution_count": 272,
      "id": "9hmccMrWmY6h",
      "metadata": {
        "id": "9hmccMrWmY6h"
      },
      "outputs": [],
      "source": [
        "trainDF.write.parquet(\"trainDF.parquet\",  mode = 'overwrite')\n",
        "testDF.write.parquet(\"testDF.parquet\",  mode = 'overwrite')"
      ]
    },
    {
      "cell_type": "markdown",
      "id": "78fa24da",
      "metadata": {
        "id": "78fa24da"
      },
      "source": [
        "### Read the saved Train and Test DataFrame:\n",
        "- Use the dataframes you read in the subsequent steps."
      ]
    },
    {
      "cell_type": "code",
      "execution_count": 273,
      "id": "c3f5c1e3",
      "metadata": {
        "id": "c3f5c1e3"
      },
      "outputs": [],
      "source": [
        "trainDF = spark.read.parquet('trainDF.parquet')\n",
        "testDF = spark.read.parquet('testDF.parquet')"
      ]
    },
    {
      "cell_type": "code",
      "execution_count": 274,
      "id": "TKeYBOdzm_pm",
      "metadata": {
        "colab": {
          "base_uri": "https://localhost:8080/"
        },
        "id": "TKeYBOdzm_pm",
        "outputId": "ead4699c-80a3-4b88-cff8-87796e42314c"
      },
      "outputs": [
        {
          "data": {
            "text/plain": [
              "3877"
            ]
          },
          "execution_count": 274,
          "metadata": {},
          "output_type": "execute_result"
        }
      ],
      "source": [
        "trainDF.count()"
      ]
    },
    {
      "cell_type": "code",
      "execution_count": 275,
      "id": "fFJS8c16nQDq",
      "metadata": {
        "colab": {
          "base_uri": "https://localhost:8080/"
        },
        "id": "fFJS8c16nQDq",
        "outputId": "9b7a1cfd-5720-489c-bdc4-fe884ff8f3eb"
      },
      "outputs": [
        {
          "data": {
            "text/plain": [
              "918"
            ]
          },
          "execution_count": 275,
          "metadata": {},
          "output_type": "execute_result"
        }
      ],
      "source": [
        "testDF.count()"
      ]
    },
    {
      "cell_type": "markdown",
      "id": "987b4b40",
      "metadata": {
        "id": "987b4b40"
      },
      "source": [
        "### Create the model:\n",
        "- Perform feature engineering steps.\n",
        "- Create the logistic regression classifier.\n",
        "- Build the pipeline model that uses all feature engineering steps and the model.\n",
        "- Train the pipeline model using the trainig dataset."
      ]
    },
    {
      "cell_type": "code",
      "execution_count": 276,
      "id": "3278e362",
      "metadata": {
        "colab": {
          "base_uri": "https://localhost:8080/"
        },
        "id": "3278e362",
        "outputId": "dc3dcc60-a186-4771-b03d-70fa5c0b4dc2"
      },
      "outputs": [
        {
          "name": "stdout",
          "output_type": "stream",
          "text": [
            "+---+------+----+------------+-------------+------------+-------------+--------------+-----------------+----+--------------+------+\n",
            "| id|gender| age|hypertension|heart_disease|ever_married|    work_type|Residence_type|avg_glucose_level| bmi|smoking_status|stroke|\n",
            "+---+------+----+------------+-------------+------------+-------------+--------------+-----------------+----+--------------+------+\n",
            "| 77|     0|13.0|           0|            0|          No|     children|         Rural|            85.81|18.6|           0.5|     0|\n",
            "| 84|     1|55.0|           0|            0|         Yes|      Private|         Urban|            89.17|31.5|           0.0|     0|\n",
            "| 99|     0|31.0|           0|            0|          No|      Private|         Urban|           108.89|52.3|           0.5|     0|\n",
            "|129|     0|24.0|           0|            0|          No|      Private|         Urban|            97.55|26.2|           0.0|     0|\n",
            "|156|     0|33.0|           0|            0|         Yes|      Private|         Rural|            86.97|42.2|           0.0|     0|\n",
            "|187|     0|20.0|           0|            0|          No|      Private|         Rural|            84.07|27.6|           1.0|     0|\n",
            "|210|     1|81.0|           0|            0|         Yes|Self-employed|         Rural|            91.54|31.4|           0.0|     1|\n",
            "|239|     1|59.0|           1|            1|         Yes|      Private|         Rural|           246.53|27.2|          0.75|     0|\n",
            "|242|     1| 4.0|           0|            0|          No|     children|         Urban|            98.56|17.5|           0.5|     0|\n",
            "|247|     1|31.0|           0|            0|          No|      Private|         Urban|             72.6|31.6|           0.0|     0|\n",
            "|315|     1|45.0|           0|            0|         Yes|      Private|         Rural|            65.42|39.7|           0.0|     0|\n",
            "|321|     0|79.0|           0|            0|          No|Self-employed|         Rural|            71.98|36.4|           0.0|     0|\n",
            "|338|     0|43.0|           0|            0|         Yes|      Private|         Rural|           110.32|28.4|           0.0|     0|\n",
            "|354|     0|65.0|           0|            0|         Yes|      Private|         Urban|            72.49|28.9|           1.0|     0|\n",
            "|355|     1| 8.0|           0|            0|          No|     children|         Rural|            96.43|25.7|           0.5|     0|\n",
            "|365|     0|44.0|           1|            0|         Yes|      Private|         Rural|            69.48|41.3|           0.0|     0|\n",
            "|394|     1|78.0|           1|            0|         Yes|Self-employed|         Rural|            75.19|27.6|           0.0|     0|\n",
            "|452|     1|48.0|           1|            0|         Yes|      Private|         Urban|           173.14|37.0|           1.0|     0|\n",
            "|464|     1|46.0|           0|            0|         Yes|      Private|         Rural|            78.44|23.9|           0.0|     0|\n",
            "|479|     0|59.0|           1|            0|         Yes|      Private|         Rural|            78.28|31.0|          0.75|     0|\n",
            "+---+------+----+------------+-------------+------------+-------------+--------------+-----------------+----+--------------+------+\n",
            "only showing top 20 rows\n",
            "\n"
          ]
        }
      ],
      "source": [
        "trainDF.show()"
      ]
    },
    {
      "cell_type": "code",
      "execution_count": 277,
      "id": "AteFJ7bopX6f",
      "metadata": {
        "id": "AteFJ7bopX6f"
      },
      "outputs": [],
      "source": [
        "trainDF=trainDF.drop('id')\n",
        "testDF=testDF.drop('id')\n"
      ]
    },
    {
      "cell_type": "code",
      "execution_count": 278,
      "id": "4e41b352",
      "metadata": {
        "id": "4e41b352"
      },
      "outputs": [],
      "source": [
        "from pyspark.ml.feature import StringIndexer,OneHotEncoder,VectorAssembler\n",
        "from pyspark.ml import Pipeline\n",
        "from pyspark.ml.classification import LogisticRegression"
      ]
    },
    {
      "cell_type": "code",
      "execution_count": 279,
      "id": "106453d7",
      "metadata": {
        "colab": {
          "base_uri": "https://localhost:8080/"
        },
        "id": "106453d7",
        "outputId": "998d626a-1fc9-42a0-e098-b2b7ae5f5e97"
      },
      "outputs": [
        {
          "data": {
            "text/plain": [
              "[('gender', 'int'),\n",
              " ('age', 'double'),\n",
              " ('hypertension', 'int'),\n",
              " ('heart_disease', 'int'),\n",
              " ('ever_married', 'string'),\n",
              " ('work_type', 'string'),\n",
              " ('Residence_type', 'string'),\n",
              " ('avg_glucose_level', 'double'),\n",
              " ('bmi', 'double'),\n",
              " ('smoking_status', 'double'),\n",
              " ('stroke', 'int')]"
            ]
          },
          "execution_count": 279,
          "metadata": {},
          "output_type": "execute_result"
        }
      ],
      "source": [
        "trainDF.dtypes"
      ]
    },
    {
      "cell_type": "code",
      "execution_count": 280,
      "id": "BTRxb_UUogrw",
      "metadata": {
        "id": "BTRxb_UUogrw"
      },
      "outputs": [],
      "source": [
        "lstDtypes = trainDF.dtypes"
      ]
    },
    {
      "cell_type": "code",
      "execution_count": 281,
      "id": "gBYBXNwOojz2",
      "metadata": {
        "colab": {
          "base_uri": "https://localhost:8080/"
        },
        "id": "gBYBXNwOojz2",
        "outputId": "53c8d2a9-327d-4896-bcd7-4b10f6d0b60c"
      },
      "outputs": [
        {
          "data": {
            "text/plain": [
              "['ever_married', 'work_type', 'Residence_type']"
            ]
          },
          "execution_count": 281,
          "metadata": {},
          "output_type": "execute_result"
        }
      ],
      "source": [
        "categoricalCols = [f for (f,d) in lstDtypes if d == 'string']\n",
        "categoricalCols"
      ]
    },
    {
      "cell_type": "code",
      "execution_count": 282,
      "id": "nY2oxF5Roopo",
      "metadata": {
        "colab": {
          "base_uri": "https://localhost:8080/"
        },
        "id": "nY2oxF5Roopo",
        "outputId": "43a6afb2-788c-4571-8a33-3e4bac45e11f"
      },
      "outputs": [
        {
          "data": {
            "text/plain": [
              "['ever_married_Index', 'work_type_Index', 'Residence_type_Index']"
            ]
          },
          "execution_count": 282,
          "metadata": {},
          "output_type": "execute_result"
        }
      ],
      "source": [
        "indexOutputCols = [f + \"_Index\" for f in categoricalCols]\n",
        "indexOutputCols"
      ]
    },
    {
      "cell_type": "code",
      "execution_count": 283,
      "id": "OvCmdprGotwk",
      "metadata": {
        "colab": {
          "base_uri": "https://localhost:8080/"
        },
        "id": "OvCmdprGotwk",
        "outputId": "3109abab-40b5-4f2d-807a-d3e1abf58ee6"
      },
      "outputs": [
        {
          "data": {
            "text/plain": [
              "['ever_married_OHE', 'work_type_OHE', 'Residence_type_OHE']"
            ]
          },
          "execution_count": 283,
          "metadata": {},
          "output_type": "execute_result"
        }
      ],
      "source": [
        "oheOutputCols = [f + \"_OHE\" for f in categoricalCols]\n",
        "oheOutputCols"
      ]
    },
    {
      "cell_type": "code",
      "execution_count": 284,
      "id": "sr4lPHd6oy4M",
      "metadata": {
        "colab": {
          "base_uri": "https://localhost:8080/"
        },
        "id": "sr4lPHd6oy4M",
        "outputId": "58f25932-d577-42c2-d3fd-4f907ce3ad9e"
      },
      "outputs": [
        {
          "data": {
            "text/plain": [
              "['gender',\n",
              " 'age',\n",
              " 'hypertension',\n",
              " 'heart_disease',\n",
              " 'avg_glucose_level',\n",
              " 'bmi',\n",
              " 'smoking_status']"
            ]
          },
          "execution_count": 284,
          "metadata": {},
          "output_type": "execute_result"
        }
      ],
      "source": [
        "numericCols = [f for (f,d) in lstDtypes if ((d == 'double') or (d == 'int') & (f!='stroke'))]\n",
        "numericCols"
      ]
    },
    {
      "cell_type": "code",
      "execution_count": 285,
      "id": "REvuFXaup7XA",
      "metadata": {
        "colab": {
          "base_uri": "https://localhost:8080/"
        },
        "id": "REvuFXaup7XA",
        "outputId": "abf6bf52-9094-45b1-aa35-44ac4b036fa3"
      },
      "outputs": [
        {
          "data": {
            "text/plain": [
              "['ever_married_OHE',\n",
              " 'work_type_OHE',\n",
              " 'Residence_type_OHE',\n",
              " 'gender',\n",
              " 'age',\n",
              " 'hypertension',\n",
              " 'heart_disease',\n",
              " 'avg_glucose_level',\n",
              " 'bmi',\n",
              " 'smoking_status']"
            ]
          },
          "execution_count": 285,
          "metadata": {},
          "output_type": "execute_result"
        }
      ],
      "source": [
        "assemblerInputs = oheOutputCols + numericCols\n",
        "assemblerInputs"
      ]
    },
    {
      "cell_type": "code",
      "execution_count": 286,
      "id": "uIrEE7UnqCmy",
      "metadata": {
        "id": "uIrEE7UnqCmy"
      },
      "outputs": [],
      "source": [
        "stringIndexer = StringIndexer(inputCols=categoricalCols,outputCols=indexOutputCols\n",
        "                             ,handleInvalid='skip')\n",
        "\n",
        "oheEncoder = OneHotEncoder(inputCols=indexOutputCols,outputCols=oheOutputCols)\n",
        "\n",
        "vecAssembler = VectorAssembler(inputCols=assemblerInputs,outputCol='features')"
      ]
    },
    {
      "cell_type": "code",
      "execution_count": 287,
      "id": "ye7iIDWmqjjJ",
      "metadata": {
        "id": "ye7iIDWmqjjJ"
      },
      "outputs": [],
      "source": [
        "lg = LogisticRegression(labelCol='stroke')"
      ]
    },
    {
      "cell_type": "code",
      "execution_count": 288,
      "id": "48TMH9WTqwJJ",
      "metadata": {
        "id": "48TMH9WTqwJJ"
      },
      "outputs": [],
      "source": [
        "mystages=[stringIndexer,oheEncoder,vecAssembler,lg]"
      ]
    },
    {
      "cell_type": "code",
      "execution_count": 289,
      "id": "nXNER9KGq-2j",
      "metadata": {
        "id": "nXNER9KGq-2j"
      },
      "outputs": [],
      "source": [
        "pl = Pipeline(stages=mystages)"
      ]
    },
    {
      "cell_type": "code",
      "execution_count": 290,
      "id": "adi3qgderFC4",
      "metadata": {
        "id": "adi3qgderFC4"
      },
      "outputs": [],
      "source": [
        "pipelineModel= pl.fit(trainDF)"
      ]
    },
    {
      "cell_type": "markdown",
      "id": "a05c2677",
      "metadata": {
        "id": "a05c2677"
      },
      "source": [
        "### Perform predictions on tests dataframe:\n",
        "- Test the model using the test dataframe\n",
        "- Select and show the feature column.\n",
        "- Print the schema of the output dataframe.\n",
        "- Select and show both prediction and label columns.\n",
        "- Explore the results for the label column stroke=1. i.e. select both columns (prediction,stroke) for stroke=1.<b>notice the result.</b> \n",
        "- Count the predicted 1 and 0 values.<b>notice the result.</b>   "
      ]
    },
    {
      "cell_type": "code",
      "execution_count": 291,
      "id": "FK6jPZ2kq8_N",
      "metadata": {
        "id": "FK6jPZ2kq8_N"
      },
      "outputs": [],
      "source": [
        "predDF = pipelineModel.transform(testDF)"
      ]
    },
    {
      "cell_type": "code",
      "execution_count": 292,
      "id": "7U4WQa5hqva7",
      "metadata": {
        "colab": {
          "base_uri": "https://localhost:8080/"
        },
        "id": "7U4WQa5hqva7",
        "outputId": "485e05fe-8615-40a6-95ee-23d5169d719c"
      },
      "outputs": [
        {
          "name": "stdout",
          "output_type": "stream",
          "text": [
            "root\n",
            " |-- gender: integer (nullable = true)\n",
            " |-- age: double (nullable = true)\n",
            " |-- hypertension: integer (nullable = true)\n",
            " |-- heart_disease: integer (nullable = true)\n",
            " |-- ever_married: string (nullable = true)\n",
            " |-- work_type: string (nullable = true)\n",
            " |-- Residence_type: string (nullable = true)\n",
            " |-- avg_glucose_level: double (nullable = true)\n",
            " |-- bmi: double (nullable = true)\n",
            " |-- smoking_status: double (nullable = true)\n",
            " |-- stroke: integer (nullable = true)\n",
            " |-- ever_married_Index: double (nullable = false)\n",
            " |-- work_type_Index: double (nullable = false)\n",
            " |-- Residence_type_Index: double (nullable = false)\n",
            " |-- ever_married_OHE: vector (nullable = true)\n",
            " |-- work_type_OHE: vector (nullable = true)\n",
            " |-- Residence_type_OHE: vector (nullable = true)\n",
            " |-- features: vector (nullable = true)\n",
            " |-- rawPrediction: vector (nullable = true)\n",
            " |-- probability: vector (nullable = true)\n",
            " |-- prediction: double (nullable = false)\n",
            "\n"
          ]
        }
      ],
      "source": [
        "predDF.printSchema()"
      ]
    },
    {
      "cell_type": "code",
      "execution_count": 293,
      "id": "XhOileVkoyTg",
      "metadata": {
        "colab": {
          "base_uri": "https://localhost:8080/"
        },
        "id": "XhOileVkoyTg",
        "outputId": "34bb8008-2bb1-4e11-ff80-38d259d5aaa0"
      },
      "outputs": [
        {
          "name": "stdout",
          "output_type": "stream",
          "text": [
            "+-----------------------------------------------------------+\n",
            "|features                                                   |\n",
            "+-----------------------------------------------------------+\n",
            "|(13,[1,5,7,10,11],[1.0,1.0,42.0,98.53,18.5])               |\n",
            "|(13,[1,7,10,11,12],[1.0,20.0,94.67,28.8,0.5])              |\n",
            "|(13,[0,1,7,10,11,12],[1.0,1.0,43.0,88.23,37.6,0.5])        |\n",
            "|(13,[0,1,5,6,7,10,11],[1.0,1.0,1.0,1.0,79.0,198.79,24.9])  |\n",
            "|(13,[0,1,5,7,10,11,12],[1.0,1.0,1.0,58.0,105.74,26.8,0.75])|\n",
            "|(13,[0,3,5,7,10,11,12],[1.0,1.0,1.0,37.0,72.09,24.1,1.0])  |\n",
            "|(13,[4,7,10,11,12],[1.0,3.0,94.12,21.4,0.5])               |\n",
            "|(13,[4,7,10,11,12],[1.0,14.0,92.22,22.8,0.5])              |\n",
            "|(13,[3,7,10,11],[1.0,39.0,87.33,34.3])                     |\n",
            "|(13,[4,7,10,11,12],[1.0,5.0,75.1,20.7,0.5])                |\n",
            "|(13,[0,2,5,7,10,11,12],[1.0,1.0,1.0,74.0,68.18,27.3,0.75]) |\n",
            "|(13,[1,7,10,11],[1.0,16.0,87.54,37.8])                     |\n",
            "|(13,[0,1,5,6,7,10,11],[1.0,1.0,1.0,1.0,34.0,83.75,37.0])   |\n",
            "|(13,[4,6,7,10,11,12],[1.0,1.0,3.0,65.85,17.0,0.5])         |\n",
            "|(13,[1,5,7,10,11],[1.0,1.0,14.0,83.42,28.7])               |\n",
            "|(13,[0,1,7,10,11,12],[1.0,1.0,68.0,211.06,39.3,0.5])       |\n",
            "|(13,[0,1,7,10,11],[1.0,1.0,45.0,87.47,21.5])               |\n",
            "|[1.0,0.0,1.0,0.0,0.0,1.0,1.0,33.0,0.0,0.0,90.68,31.7,1.0]  |\n",
            "|(13,[0,2,5,7,10,11],[1.0,1.0,1.0,31.0,82.31,31.9])         |\n",
            "|(13,[0,1,7,8,10,11,12],[1.0,1.0,67.0,1.0,179.12,28.1,0.75])|\n",
            "+-----------------------------------------------------------+\n",
            "only showing top 20 rows\n",
            "\n"
          ]
        }
      ],
      "source": [
        "predDF.select('features').show(truncate=False)"
      ]
    },
    {
      "cell_type": "code",
      "execution_count": 294,
      "id": "3ea267eb",
      "metadata": {
        "colab": {
          "base_uri": "https://localhost:8080/"
        },
        "id": "3ea267eb",
        "outputId": "ac6e57ab-e1ae-4c2e-fb40-c85ee326b9c5"
      },
      "outputs": [
        {
          "name": "stdout",
          "output_type": "stream",
          "text": [
            "+------+----------+\n",
            "|stroke|prediction|\n",
            "+------+----------+\n",
            "|     0|       0.0|\n",
            "|     0|       0.0|\n",
            "|     0|       0.0|\n",
            "|     0|       0.0|\n",
            "|     0|       0.0|\n",
            "|     0|       0.0|\n",
            "|     0|       0.0|\n",
            "|     0|       0.0|\n",
            "|     0|       0.0|\n",
            "|     0|       0.0|\n",
            "|     0|       0.0|\n",
            "|     0|       0.0|\n",
            "|     0|       0.0|\n",
            "|     0|       0.0|\n",
            "|     0|       0.0|\n",
            "|     1|       0.0|\n",
            "|     0|       0.0|\n",
            "|     0|       0.0|\n",
            "|     0|       0.0|\n",
            "|     1|       0.0|\n",
            "+------+----------+\n",
            "only showing top 20 rows\n",
            "\n"
          ]
        }
      ],
      "source": [
        "predDF.select('stroke','prediction').show()"
      ]
    },
    {
      "cell_type": "code",
      "execution_count": 295,
      "id": "gN9thJn0sZyV",
      "metadata": {
        "colab": {
          "base_uri": "https://localhost:8080/"
        },
        "id": "gN9thJn0sZyV",
        "outputId": "79927859-eb1f-456f-8636-42661d14dcc0"
      },
      "outputs": [
        {
          "name": "stdout",
          "output_type": "stream",
          "text": [
            "+--------------------+----------+\n",
            "|            features|prediction|\n",
            "+--------------------+----------+\n",
            "|(13,[1,5,7,10,11]...|       0.0|\n",
            "|(13,[1,7,10,11,12...|       0.0|\n",
            "|(13,[0,1,7,10,11,...|       0.0|\n",
            "|(13,[0,1,5,6,7,10...|       0.0|\n",
            "|(13,[0,1,5,7,10,1...|       0.0|\n",
            "|(13,[0,3,5,7,10,1...|       0.0|\n",
            "|(13,[4,7,10,11,12...|       0.0|\n",
            "|(13,[4,7,10,11,12...|       0.0|\n",
            "|(13,[3,7,10,11],[...|       0.0|\n",
            "|(13,[4,7,10,11,12...|       0.0|\n",
            "|(13,[0,2,5,7,10,1...|       0.0|\n",
            "|(13,[1,7,10,11],[...|       0.0|\n",
            "|(13,[0,1,5,6,7,10...|       0.0|\n",
            "|(13,[4,6,7,10,11,...|       0.0|\n",
            "|(13,[1,5,7,10,11]...|       0.0|\n",
            "|(13,[0,1,7,10,11,...|       0.0|\n",
            "|(13,[0,1,7,10,11]...|       0.0|\n",
            "|[1.0,0.0,1.0,0.0,...|       0.0|\n",
            "|(13,[0,2,5,7,10,1...|       0.0|\n",
            "|(13,[0,1,7,8,10,1...|       0.0|\n",
            "+--------------------+----------+\n",
            "only showing top 20 rows\n",
            "\n"
          ]
        }
      ],
      "source": [
        "predDF.select('features','prediction').show()"
      ]
    },
    {
      "cell_type": "code",
      "execution_count": 296,
      "id": "JdUswOjEss-n",
      "metadata": {
        "colab": {
          "base_uri": "https://localhost:8080/"
        },
        "id": "JdUswOjEss-n",
        "outputId": "87a9772c-0448-4157-82dd-4c39e1d7478c"
      },
      "outputs": [
        {
          "name": "stdout",
          "output_type": "stream",
          "text": [
            "+------+----------+\n",
            "|stroke|prediction|\n",
            "+------+----------+\n",
            "|     1|       0.0|\n",
            "|     1|       0.0|\n",
            "|     1|       0.0|\n",
            "|     1|       0.0|\n",
            "|     1|       0.0|\n",
            "|     1|       0.0|\n",
            "|     1|       0.0|\n",
            "|     1|       0.0|\n",
            "|     1|       0.0|\n",
            "|     1|       0.0|\n",
            "|     1|       0.0|\n",
            "|     1|       0.0|\n",
            "|     1|       0.0|\n",
            "|     1|       0.0|\n",
            "|     1|       0.0|\n",
            "|     1|       0.0|\n",
            "|     1|       0.0|\n",
            "|     1|       0.0|\n",
            "|     1|       0.0|\n",
            "|     1|       0.0|\n",
            "+------+----------+\n",
            "only showing top 20 rows\n",
            "\n"
          ]
        }
      ],
      "source": [
        "predDF.select('stroke','prediction').filter(predDF['stroke'] == 1).show()"
      ]
    },
    {
      "cell_type": "code",
      "execution_count": 297,
      "id": "480d892e",
      "metadata": {
        "colab": {
          "base_uri": "https://localhost:8080/"
        },
        "id": "480d892e",
        "outputId": "8289890c-a8e4-473e-9ad9-b374e93bae5c",
        "scrolled": false
      },
      "outputs": [
        {
          "data": {
            "text/plain": [
              "881"
            ]
          },
          "execution_count": 297,
          "metadata": {},
          "output_type": "execute_result"
        }
      ],
      "source": [
        "predDF.filter(predDF['stroke'] == 0).count()"
      ]
    },
    {
      "cell_type": "code",
      "execution_count": 298,
      "id": "e2GER5oj7tNC",
      "metadata": {
        "colab": {
          "base_uri": "https://localhost:8080/"
        },
        "id": "e2GER5oj7tNC",
        "outputId": "5930a71f-aaa0-40be-86a0-3f2873fb46eb"
      },
      "outputs": [
        {
          "data": {
            "text/plain": [
              "918"
            ]
          },
          "execution_count": 298,
          "metadata": {},
          "output_type": "execute_result"
        }
      ],
      "source": [
        "predDF.filter(predDF['prediction'] == 0).count()"
      ]
    },
    {
      "cell_type": "code",
      "execution_count": 299,
      "id": "GpSP4859sE1j",
      "metadata": {
        "colab": {
          "base_uri": "https://localhost:8080/"
        },
        "id": "GpSP4859sE1j",
        "outputId": "30b67fd8-f4db-46c8-fe29-fdf9db503f6d"
      },
      "outputs": [
        {
          "data": {
            "text/plain": [
              "37"
            ]
          },
          "execution_count": 299,
          "metadata": {},
          "output_type": "execute_result"
        }
      ],
      "source": [
        "predDF.filter(predDF['stroke'] == 1).count()"
      ]
    },
    {
      "cell_type": "code",
      "execution_count": 300,
      "id": "MCfRqgns70RL",
      "metadata": {
        "colab": {
          "base_uri": "https://localhost:8080/"
        },
        "id": "MCfRqgns70RL",
        "outputId": "bc20d816-4b83-462f-cd12-c3f176ca4249"
      },
      "outputs": [
        {
          "data": {
            "text/plain": [
              "0"
            ]
          },
          "execution_count": 300,
          "metadata": {},
          "output_type": "execute_result"
        }
      ],
      "source": [
        "predDF.filter(predDF['prediction'] == 1).count()"
      ]
    },
    {
      "cell_type": "markdown",
      "id": "daec120f",
      "metadata": {
        "id": "daec120f"
      },
      "source": [
        "### Evaluate the model performance\n",
        "- Use <b>BinaryClassificationEvaluator</b>. This will calculate the <b>ROC</b>.\n",
        "- Set the parameters as follow:\n",
        "    - <b>rawPredictionCol='prediction'</b> and <b>labelCol='stroke'</b>"
      ]
    },
    {
      "cell_type": "code",
      "execution_count": 301,
      "id": "a7b5ad25",
      "metadata": {
        "id": "a7b5ad25"
      },
      "outputs": [],
      "source": [
        "from pyspark.ml.evaluation import BinaryClassificationEvaluator"
      ]
    },
    {
      "cell_type": "code",
      "execution_count": 302,
      "id": "44d3a1e6",
      "metadata": {
        "id": "44d3a1e6"
      },
      "outputs": [],
      "source": [
        "evaluatorROC = BinaryClassificationEvaluator(rawPredictionCol='prediction'\n",
        "                                             ,labelCol='stroke')"
      ]
    },
    {
      "cell_type": "code",
      "execution_count": 303,
      "id": "3adbe41f",
      "metadata": {
        "colab": {
          "base_uri": "https://localhost:8080/"
        },
        "id": "3adbe41f",
        "outputId": "b5652865-aa41-4766-9253-56ea83784e5c"
      },
      "outputs": [
        {
          "data": {
            "text/plain": [
              "0.5"
            ]
          },
          "execution_count": 303,
          "metadata": {},
          "output_type": "execute_result"
        }
      ],
      "source": [
        "evaluatorROC.evaluate(predDF)"
      ]
    },
    {
      "cell_type": "markdown",
      "id": "40206589",
      "metadata": {
        "id": "40206589"
      },
      "source": [
        "### Improve Model Performance\n",
        "- You may noticed that <b>the target label is imbalanced</b>.\n",
        "- LogisticRegression classifier has a special parameter <b>weightCol</b> to deal with imbalanced class.\n",
        "- In order to use this parameter you must have a <b>weightCol</b> in your training dataframe.\n",
        "- In order to create this column you will need to define a <b>UDF</b> and apply it to the target label column.\n",
        "- Create a LogisticRegression classifier with <b>weightCol</b> parameter.\n",
        "- Build and train a pipeline model with the new LogisticRegression.\n",
        "- Perform the prediction on the test dataframe. \n",
        "- Select and show both prediction and label columns.\n",
        "- Explore the results for the label column stroke=1. i.e. select both columns (prediction,stroke) for stroke=1.<b>notice the result.</b> \n",
        "- Count the predicted 1 and 0 values.<b>notice the result.</b>   \n",
        "- Evaluate the model performance exactly as in the previous step.\n",
        "### YOU SHOULD OBTAIN  ROC > 0.65\n",
        "<BR>\n",
        "<b><font color='red'>Note: feel free to deal with the imbalanced cluster with the above method or another. However, you can only use methods applied on SPARK DATAFRAME</font></b>"
      ]
    },
    {
      "cell_type": "code",
      "execution_count": 304,
      "id": "qNBJOWaD3CLv",
      "metadata": {
        "id": "qNBJOWaD3CLv"
      },
      "outputs": [],
      "source": [
        "# from pyspark.sql.types import DoubleType\n",
        "# @udf(returnType=DoubleType()) \n",
        "# def weightCol(num):\n",
        "#   diff = trainDF.filter(trainDF['stroke'] == 0)\\\n",
        "#         .count() / trainDF.count()\n",
        "#   OneWeight = 1 - diff\n",
        "#   ZeroWeight = diff\n",
        "#   if num==0 :\n",
        "#         return OneWeight\n",
        "#   else: \n",
        "#         return ZeroWeight"
      ]
    },
    {
      "cell_type": "code",
      "execution_count": 305,
      "id": "PxsWMGps34Uy",
      "metadata": {
        "id": "PxsWMGps34Uy"
      },
      "outputs": [],
      "source": [
        "# trainDF3 = trainDF.withColumn(\"weightCol\",weightCol(trainDF['stroke']))"
      ]
    },
    {
      "cell_type": "code",
      "execution_count": 306,
      "id": "TjTbwEuVtlBm",
      "metadata": {
        "id": "TjTbwEuVtlBm"
      },
      "outputs": [],
      "source": [
        "diff = trainDF.filter(trainDF['stroke'] == 0)\\\n",
        "        .count() / trainDF.count()\n",
        "OneWeight = 1 - diff\n",
        "ZeroWeight = diff\n"
      ]
    },
    {
      "cell_type": "code",
      "execution_count": 307,
      "id": "lNCZqGlrG5mU",
      "metadata": {
        "id": "lNCZqGlrG5mU"
      },
      "outputs": [],
      "source": [
        "trainDF2 = trainDF.withColumn(\"weightCol\", when(trainDF.stroke == 0, OneWeight).when(trainDF.stroke == 1, ZeroWeight))"
      ]
    },
    {
      "cell_type": "code",
      "execution_count": 308,
      "id": "mWEe2u7Ay3Bp",
      "metadata": {
        "colab": {
          "base_uri": "https://localhost:8080/"
        },
        "id": "mWEe2u7Ay3Bp",
        "outputId": "6be04657-e67e-42d4-e8ef-d29735b90312"
      },
      "outputs": [
        {
          "name": "stdout",
          "output_type": "stream",
          "text": [
            "+------+-------------------+\n",
            "|stroke|          weightCol|\n",
            "+------+-------------------+\n",
            "|     0|0.04436419912303324|\n",
            "|     0|0.04436419912303324|\n",
            "|     0|0.04436419912303324|\n",
            "|     0|0.04436419912303324|\n",
            "|     0|0.04436419912303324|\n",
            "|     0|0.04436419912303324|\n",
            "|     1| 0.9556358008769668|\n",
            "|     0|0.04436419912303324|\n",
            "|     0|0.04436419912303324|\n",
            "|     0|0.04436419912303324|\n",
            "|     0|0.04436419912303324|\n",
            "|     0|0.04436419912303324|\n",
            "|     0|0.04436419912303324|\n",
            "|     0|0.04436419912303324|\n",
            "|     0|0.04436419912303324|\n",
            "|     0|0.04436419912303324|\n",
            "|     0|0.04436419912303324|\n",
            "|     0|0.04436419912303324|\n",
            "|     0|0.04436419912303324|\n",
            "|     0|0.04436419912303324|\n",
            "+------+-------------------+\n",
            "only showing top 20 rows\n",
            "\n"
          ]
        }
      ],
      "source": [
        "trainDF2.select('stroke','weightCol').show()"
      ]
    },
    {
      "cell_type": "code",
      "execution_count": 309,
      "id": "rUyeylVyIShy",
      "metadata": {
        "id": "rUyeylVyIShy"
      },
      "outputs": [],
      "source": [
        "lgNew = LogisticRegression(labelCol='stroke', weightCol='weightCol')"
      ]
    },
    {
      "cell_type": "code",
      "execution_count": 310,
      "id": "T_i86xCTzWf0",
      "metadata": {
        "id": "T_i86xCTzWf0"
      },
      "outputs": [],
      "source": [
        "mystages2=[stringIndexer,oheEncoder,vecAssembler,lgNew]"
      ]
    },
    {
      "cell_type": "code",
      "execution_count": 311,
      "id": "QHHwS2q_zWf1",
      "metadata": {
        "id": "QHHwS2q_zWf1"
      },
      "outputs": [],
      "source": [
        "pl2 = Pipeline(stages=mystages2)"
      ]
    },
    {
      "cell_type": "code",
      "execution_count": 312,
      "id": "vJ5pvuWhzWf1",
      "metadata": {
        "id": "vJ5pvuWhzWf1"
      },
      "outputs": [],
      "source": [
        "pipelineModel= pl2.fit(trainDF2)"
      ]
    },
    {
      "cell_type": "code",
      "execution_count": 313,
      "id": "BKeua9Z5zWf1",
      "metadata": {
        "id": "BKeua9Z5zWf1"
      },
      "outputs": [],
      "source": [
        "predDF2 = pipelineModel.transform(testDF)"
      ]
    },
    {
      "cell_type": "code",
      "execution_count": 313,
      "id": "oe8sJq3h6GFW",
      "metadata": {
        "id": "oe8sJq3h6GFW"
      },
      "outputs": [],
      "source": []
    },
    {
      "cell_type": "code",
      "execution_count": 314,
      "id": "VJqovYKm6Gce",
      "metadata": {
        "colab": {
          "base_uri": "https://localhost:8080/"
        },
        "id": "VJqovYKm6Gce",
        "outputId": "7888d456-22df-4ac9-d367-27f599140c72"
      },
      "outputs": [
        {
          "name": "stdout",
          "output_type": "stream",
          "text": [
            "+------+----------+\n",
            "|stroke|prediction|\n",
            "+------+----------+\n",
            "|     0|       0.0|\n",
            "|     0|       0.0|\n",
            "|     0|       0.0|\n",
            "|     0|       1.0|\n",
            "|     0|       1.0|\n",
            "|     0|       0.0|\n",
            "|     0|       0.0|\n",
            "|     0|       0.0|\n",
            "|     0|       0.0|\n",
            "|     0|       0.0|\n",
            "|     0|       1.0|\n",
            "|     0|       0.0|\n",
            "|     0|       0.0|\n",
            "|     0|       0.0|\n",
            "|     0|       0.0|\n",
            "|     1|       1.0|\n",
            "|     0|       0.0|\n",
            "|     0|       0.0|\n",
            "|     0|       0.0|\n",
            "|     1|       1.0|\n",
            "+------+----------+\n",
            "only showing top 20 rows\n",
            "\n"
          ]
        }
      ],
      "source": [
        "predDF2.select('stroke','prediction').show()"
      ]
    },
    {
      "cell_type": "code",
      "execution_count": 315,
      "id": "51JyuQj56Gce",
      "metadata": {
        "colab": {
          "base_uri": "https://localhost:8080/"
        },
        "id": "51JyuQj56Gce",
        "outputId": "ec95f6a0-e786-4d1c-bd19-a9c745b3df01"
      },
      "outputs": [
        {
          "name": "stdout",
          "output_type": "stream",
          "text": [
            "+--------------------+----------+\n",
            "|            features|prediction|\n",
            "+--------------------+----------+\n",
            "|(13,[1,5,7,10,11]...|       0.0|\n",
            "|(13,[1,7,10,11,12...|       0.0|\n",
            "|(13,[0,1,7,10,11,...|       0.0|\n",
            "|(13,[0,1,5,6,7,10...|       1.0|\n",
            "|(13,[0,1,5,7,10,1...|       1.0|\n",
            "|(13,[0,3,5,7,10,1...|       0.0|\n",
            "|(13,[4,7,10,11,12...|       0.0|\n",
            "|(13,[4,7,10,11,12...|       0.0|\n",
            "|(13,[3,7,10,11],[...|       0.0|\n",
            "|(13,[4,7,10,11,12...|       0.0|\n",
            "|(13,[0,2,5,7,10,1...|       1.0|\n",
            "|(13,[1,7,10,11],[...|       0.0|\n",
            "|(13,[0,1,5,6,7,10...|       0.0|\n",
            "|(13,[4,6,7,10,11,...|       0.0|\n",
            "|(13,[1,5,7,10,11]...|       0.0|\n",
            "|(13,[0,1,7,10,11,...|       1.0|\n",
            "|(13,[0,1,7,10,11]...|       0.0|\n",
            "|[1.0,0.0,1.0,0.0,...|       0.0|\n",
            "|(13,[0,2,5,7,10,1...|       0.0|\n",
            "|(13,[0,1,7,8,10,1...|       1.0|\n",
            "+--------------------+----------+\n",
            "only showing top 20 rows\n",
            "\n"
          ]
        }
      ],
      "source": [
        "predDF2.select('features','prediction').show()"
      ]
    },
    {
      "cell_type": "code",
      "execution_count": 316,
      "id": "lt_grVNt6Gcf",
      "metadata": {
        "colab": {
          "base_uri": "https://localhost:8080/"
        },
        "id": "lt_grVNt6Gcf",
        "outputId": "2ab0a114-84f0-4934-86b4-da368110a685"
      },
      "outputs": [
        {
          "name": "stdout",
          "output_type": "stream",
          "text": [
            "+------+----------+\n",
            "|stroke|prediction|\n",
            "+------+----------+\n",
            "|     1|       1.0|\n",
            "|     1|       1.0|\n",
            "|     1|       1.0|\n",
            "|     1|       1.0|\n",
            "|     1|       1.0|\n",
            "|     1|       1.0|\n",
            "|     1|       1.0|\n",
            "|     1|       1.0|\n",
            "|     1|       1.0|\n",
            "|     1|       1.0|\n",
            "|     1|       1.0|\n",
            "|     1|       1.0|\n",
            "|     1|       1.0|\n",
            "|     1|       1.0|\n",
            "|     1|       1.0|\n",
            "|     1|       1.0|\n",
            "|     1|       1.0|\n",
            "|     1|       1.0|\n",
            "|     1|       1.0|\n",
            "|     1|       1.0|\n",
            "+------+----------+\n",
            "only showing top 20 rows\n",
            "\n"
          ]
        }
      ],
      "source": [
        "predDF2.select('stroke','prediction').filter(predDF2['stroke'] == 1).show()"
      ]
    },
    {
      "cell_type": "code",
      "execution_count": 317,
      "id": "aZ3WpodA6Gcf",
      "metadata": {
        "colab": {
          "base_uri": "https://localhost:8080/"
        },
        "id": "aZ3WpodA6Gcf",
        "outputId": "af518e0f-6256-4282-a276-b0e423866ff0",
        "scrolled": false
      },
      "outputs": [
        {
          "data": {
            "text/plain": [
              "881"
            ]
          },
          "execution_count": 317,
          "metadata": {},
          "output_type": "execute_result"
        }
      ],
      "source": [
        "predDF2.filter(predDF2['stroke'] == 0).count()"
      ]
    },
    {
      "cell_type": "code",
      "execution_count": 318,
      "id": "RUGot__07JrW",
      "metadata": {
        "colab": {
          "base_uri": "https://localhost:8080/"
        },
        "id": "RUGot__07JrW",
        "outputId": "aac1bcf3-8b36-45eb-e2f2-f0737c936d17"
      },
      "outputs": [
        {
          "data": {
            "text/plain": [
              "647"
            ]
          },
          "execution_count": 318,
          "metadata": {},
          "output_type": "execute_result"
        }
      ],
      "source": [
        "predDF2.filter(predDF2['prediction'] == 0).count()"
      ]
    },
    {
      "cell_type": "code",
      "execution_count": 319,
      "id": "guYWRNwY6Gcf",
      "metadata": {
        "colab": {
          "base_uri": "https://localhost:8080/"
        },
        "id": "guYWRNwY6Gcf",
        "outputId": "89ab490c-d904-4e5b-ab2b-28af043ab7b8"
      },
      "outputs": [
        {
          "data": {
            "text/plain": [
              "37"
            ]
          },
          "execution_count": 319,
          "metadata": {},
          "output_type": "execute_result"
        }
      ],
      "source": [
        "predDF2.filter(predDF2['stroke'] == 1).count()"
      ]
    },
    {
      "cell_type": "code",
      "execution_count": 320,
      "id": "4D9fRbyX7enl",
      "metadata": {
        "colab": {
          "base_uri": "https://localhost:8080/"
        },
        "id": "4D9fRbyX7enl",
        "outputId": "d174546f-ef28-4eea-a7c3-96bb7955e4a0"
      },
      "outputs": [
        {
          "data": {
            "text/plain": [
              "271"
            ]
          },
          "execution_count": 320,
          "metadata": {},
          "output_type": "execute_result"
        }
      ],
      "source": [
        "predDF2.filter(predDF2['prediction'] == 1).count()"
      ]
    },
    {
      "cell_type": "code",
      "execution_count": 321,
      "id": "4e8c18b5",
      "metadata": {
        "colab": {
          "base_uri": "https://localhost:8080/"
        },
        "id": "4e8c18b5",
        "outputId": "2a97920e-356d-4082-eac1-5ac15c74ea18"
      },
      "outputs": [
        {
          "data": {
            "text/plain": [
              "0.8249532165536706"
            ]
          },
          "execution_count": 321,
          "metadata": {},
          "output_type": "execute_result"
        }
      ],
      "source": [
        "evaluatorROC.evaluate(predDF2)"
      ]
    },
    {
      "cell_type": "code",
      "execution_count": 321,
      "id": "_-m5Z7AW5MSZ",
      "metadata": {
        "id": "_-m5Z7AW5MSZ"
      },
      "outputs": [],
      "source": []
    }
  ],
  "metadata": {
    "accelerator": "GPU",
    "colab": {
      "collapsed_sections": [],
      "name": " Spark and Python for Big Data Final ExamSol_Mohamed_Abohassan.ipynb",
      "provenance": []
    },
    "gpuClass": "standard",
    "kernelspec": {
      "display_name": "Python 3 (ipykernel)",
      "language": "python",
      "name": "python3"
    },
    "language_info": {
      "codemirror_mode": {
        "name": "ipython",
        "version": 3
      },
      "file_extension": ".py",
      "mimetype": "text/x-python",
      "name": "python",
      "nbconvert_exporter": "python",
      "pygments_lexer": "ipython3",
      "version": "3.9.12"
    }
  },
  "nbformat": 4,
  "nbformat_minor": 5
}
